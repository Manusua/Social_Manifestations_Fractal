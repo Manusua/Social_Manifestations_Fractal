{
 "cells": [
  {
   "cell_type": "markdown",
   "metadata": {},
   "source": [
    "# Creación de grafos\n",
    "Funcionalidades para transformar los archivos \".csv\" dados en grafos guardados en archivos con la extensión \".gexf\".\n",
    "\n",
    "Dos tipos de modos: \n",
    "* MODE = \"user\": red de usuarios unidos si han usado uno (o más) hashtags\n",
    "* MODE = \"hashtag\": red de hashtags unidos si han sido usados por uno (o más) usuarios"
   ]
  },
  {
   "cell_type": "code",
   "execution_count": 1,
   "metadata": {},
   "outputs": [],
   "source": [
    "import networkx as nx\n",
    "import pandas as pd\n",
    "from tqdm import tqdm\n",
    "import os"
   ]
  },
  {
   "cell_type": "code",
   "execution_count": 2,
   "metadata": {},
   "outputs": [],
   "source": [
    "data_folder = \"data/\"\n",
    "graphs_folder_base = \"graphs/nodes_\""
   ]
  },
  {
   "cell_type": "code",
   "execution_count": 22,
   "metadata": {},
   "outputs": [],
   "source": [
    "def create_bipartite_graph(df, graphs_folder, MANIFESTACION):\n",
    "    df_h = df[\"hour\"].unique()\n",
    "    print(\"Creando redes bipartitas, manifestación seleccionada:\", MANIFESTACION, \"número de horas: \", len(df_h))\n",
    "    G = nx.Graph()\n",
    "    for hour in tqdm(df_h):\n",
    "        df_hour = df[(df[\"hour\"] == hour)]\n",
    "        G = nx.from_pandas_edgelist(df_hour, source=\"user\", target=\"hashtag\", edge_attr=\"weight\")\n",
    "        nx.write_gexf(G, graphs_folder + str(hour) + \".gexf\")"
   ]
  },
  {
   "cell_type": "code",
   "execution_count": 44,
   "metadata": {},
   "outputs": [],
   "source": [
    "def create_graphs(node_criteria, edge_criteria, df, graphs_folder, filtered=False, thresh_filt=5):\n",
    "    df_h = df[\"hour\"].unique()\n",
    "    print(\"Creando redes de\", node_criteria, \"unidos si comparten uno o más\", edge_criteria, \", manifestación seleccionada:\", MANIFESTACION, \"número de horas: \", len(df_h))\n",
    "    for hour in tqdm(df_h):\n",
    "        G = nx.Graph()\n",
    "        df_hour = df[(df[\"hour\"] == hour)]\n",
    "        df_nodes = df_hour[node_criteria].unique()\n",
    "        G.add_nodes_from(df_nodes)\n",
    "        for node in df_nodes:\n",
    "            # Seleccionamos las filas del dataframe con el usuario/hashtag sobre el que iteramos\n",
    "            df_node_edge = df_hour.loc[df_hour[node_criteria] == node]\n",
    "            # Seleccionamos tantos hashtags/usuarios como haya que haya compartido el usuario/hasthag respectivamente\n",
    "            df_node_edge = df_node_edge[edge_criteria]\n",
    "            for edge in df_node_edge:\n",
    "                df_edge = df_hour.loc[df_hour[edge_criteria] == edge]\n",
    "                df_edge = df_edge[node_criteria]\n",
    "                for nd in df_edge:\n",
    "                    if nd != node:\n",
    "                        if G.has_edge(node, nd):\n",
    "                            G[node][nd][\"weight\"] += 1\n",
    "                        else:\n",
    "                            G.add_edge(node, nd, weight = 1)\n",
    "        \n",
    "        # Finalmente dividimos entre dos todos los pesos de las aristas, pues están contados dos veces (uno por cada nodo)\n",
    "        for edge in G.edges():\n",
    "            old_weight = G.edges[edge][\"weight\"]\n",
    "            nx.set_edge_attributes(G, {edge: {\"weight\": old_weight/2}})\n",
    "        if filtered:\n",
    "            H = nx.Graph()\n",
    "\n",
    "            # Añadir nodos del grafo original al nuevo grafo\n",
    "            H.add_nodes_from(G.nodes())\n",
    "\n",
    "            # Añadir aristas que cumplen con el umbral de peso\n",
    "            for u, v, data in G.edges(data=True):\n",
    "                if data['weight'] >= thresh_filt:\n",
    "                    H.add_edge(u, v, **data)\n",
    "            nx.write_gexf(H, graphs_folder + \"filtered/\" + str(thresh_filt) + '/' + str(hour) + \".gexf\")\n",
    "        else:\n",
    "            nx.write_gexf(G, graphs_folder + str(hour) + \".gexf\")\n",
    "        #print(\"Creado grafo con\", G.number_of_nodes(), \"nodos y\", G.number_of_edges(), \"aristas.\")"
   ]
  },
  {
   "cell_type": "markdown",
   "metadata": {},
   "source": [
    "## MANIESTACIÓN 9N"
   ]
  },
  {
   "cell_type": "code",
   "execution_count": 37,
   "metadata": {},
   "outputs": [],
   "source": [
    "# Seleccionamos el fichero correspondie9nnte a la manifestación social de la que queremos sacar la red\n",
    "MANIFESTACION = \"nat\"\n",
    "file_selected = data_folder + MANIFESTACION + '.txt'\n",
    "df_9n = pd.read_csv(file_selected, sep=' ')"
   ]
  },
  {
   "cell_type": "markdown",
   "metadata": {},
   "source": [
    "### MODE HASHTAGS AS NODES"
   ]
  },
  {
   "cell_type": "code",
   "execution_count": 41,
   "metadata": {},
   "outputs": [
    {
     "name": "stdout",
     "output_type": "stream",
     "text": [
      "Creando redes de hashtag unidos si comparten uno o más user , manifestación seleccionada: nat número de horas:  260\n"
     ]
    },
    {
     "name": "stderr",
     "output_type": "stream",
     "text": [
      "100%|██████████| 260/260 [00:55<00:00,  4.73it/s]\n"
     ]
    }
   ],
   "source": [
    "graphs_folder = graphs_folder_base  + \"hashtag\" + '/' + MANIFESTACION + '/'\n",
    "create_graphs(\"hashtag\", \"user\", df_9n, graphs_folder, filtered=False, thresh_filt=5)"
   ]
  },
  {
   "cell_type": "markdown",
   "metadata": {},
   "source": [
    "### MODE USERS AS NODES"
   ]
  },
  {
   "cell_type": "code",
   "execution_count": 39,
   "metadata": {},
   "outputs": [
    {
     "name": "stdout",
     "output_type": "stream",
     "text": [
      "Creando redes de user unidos si comparten uno o más hashtag , manifestación seleccionada: nat número de horas:  260\n"
     ]
    },
    {
     "name": "stderr",
     "output_type": "stream",
     "text": [
      "100%|██████████| 260/260 [00:43<00:00,  5.92it/s]\n"
     ]
    }
   ],
   "source": [
    "graphs_folder = graphs_folder_base  + \"user\" + '/' + MANIFESTACION + '/'\n",
    "create_graphs(\"user\", \"hashtag\", df_9n, graphs_folder)"
   ]
  },
  {
   "cell_type": "markdown",
   "metadata": {},
   "source": [
    "### MODE BIPARTITE GRAPH"
   ]
  },
  {
   "cell_type": "code",
   "execution_count": 25,
   "metadata": {},
   "outputs": [
    {
     "name": "stdout",
     "output_type": "stream",
     "text": [
      "Creando redes bipartitas, manifestación seleccionada: 9n número de horas:  97\n"
     ]
    },
    {
     "name": "stderr",
     "output_type": "stream",
     "text": [
      "100%|██████████| 97/97 [00:05<00:00, 18.21it/s]\n"
     ]
    }
   ],
   "source": [
    "graphs_folder = graphs_folder_base + \"bipartite/\" + MANIFESTACION + '/'\n",
    "create_bipartite_graph(df_9n, graphs_folder, \"9n\")"
   ]
  },
  {
   "cell_type": "markdown",
   "metadata": {},
   "source": [
    "## MANIFESTACION NAT"
   ]
  },
  {
   "cell_type": "code",
   "execution_count": 42,
   "metadata": {},
   "outputs": [],
   "source": [
    "# Seleccionamos el fichero correspondiente a la manifestación social de la que queremos sacar la red\n",
    "MANIFESTACION = \"nat\"\n",
    "file_selected = data_folder + MANIFESTACION + '.txt'\n",
    "df_nat = pd.read_csv(file_selected, sep=' ')"
   ]
  },
  {
   "cell_type": "markdown",
   "metadata": {},
   "source": [
    "### MODE HASHTAGS AS NODES"
   ]
  },
  {
   "cell_type": "code",
   "execution_count": 46,
   "metadata": {},
   "outputs": [
    {
     "name": "stdout",
     "output_type": "stream",
     "text": [
      "Creando redes de hashtag unidos si comparten uno o más user , manifestación seleccionada: nat número de horas:  260\n"
     ]
    },
    {
     "name": "stderr",
     "output_type": "stream",
     "text": [
      "100%|██████████| 260/260 [01:14<00:00,  3.47it/s]\n"
     ]
    }
   ],
   "source": [
    "graphs_folder = graphs_folder_base  + \"hashtag\" + '/' + MANIFESTACION + '/'\n",
    "create_graphs(\"hashtag\", \"user\", df_nat, graphs_folder, filtered=True, thresh_filt=2)"
   ]
  },
  {
   "cell_type": "markdown",
   "metadata": {},
   "source": [
    "### MODE USERS AS NODES"
   ]
  },
  {
   "cell_type": "code",
   "execution_count": 35,
   "metadata": {},
   "outputs": [
    {
     "name": "stdout",
     "output_type": "stream",
     "text": [
      "Creando redes de user unidos si comparten uno o más hashtag , manifestación seleccionada: nat número de horas:  260\n"
     ]
    },
    {
     "name": "stderr",
     "output_type": "stream",
     "text": [
      "100%|██████████| 260/260 [00:36<00:00,  7.21it/s]\n"
     ]
    }
   ],
   "source": [
    "graphs_folder = graphs_folder_base  + \"user\" + '/' + MANIFESTACION + '/'\n",
    "create_graphs(\"user\", \"hashtag\", df_nat, graphs_folder)"
   ]
  },
  {
   "cell_type": "markdown",
   "metadata": {},
   "source": [
    "### MODE BIPARTITE GRAPH"
   ]
  },
  {
   "cell_type": "code",
   "execution_count": 30,
   "metadata": {},
   "outputs": [
    {
     "name": "stdout",
     "output_type": "stream",
     "text": [
      "Creando redes bipartitas, manifestación seleccionada: nat número de horas:  260\n"
     ]
    },
    {
     "name": "stderr",
     "output_type": "stream",
     "text": [
      "100%|██████████| 260/260 [00:04<00:00, 54.18it/s]\n"
     ]
    }
   ],
   "source": [
    "graphs_folder = graphs_folder_base + \"bipartite/\" + MANIFESTACION + '/'\n",
    "create_bipartite_graph(df_nat, graphs_folder, \"nat\")"
   ]
  }
 ],
 "metadata": {
  "kernelspec": {
   "display_name": ".venv",
   "language": "python",
   "name": "python3"
  },
  "language_info": {
   "codemirror_mode": {
    "name": "ipython",
    "version": 3
   },
   "file_extension": ".py",
   "mimetype": "text/x-python",
   "name": "python",
   "nbconvert_exporter": "python",
   "pygments_lexer": "ipython3",
   "version": "3.12.3"
  }
 },
 "nbformat": 4,
 "nbformat_minor": 2
}
