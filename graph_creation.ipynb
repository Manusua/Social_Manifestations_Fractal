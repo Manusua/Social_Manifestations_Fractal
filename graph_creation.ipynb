{
 "cells": [
  {
   "cell_type": "markdown",
   "metadata": {},
   "source": [
    "# Creación de grafos\n",
    "Funcionalidades para transformar los archivos \".csv\" dados en grafos guardados en archivos con la extensión \".gexf\".\n",
    "\n",
    "Dos tipos de modos: \n",
    "* MODE = \"user\": red de usuarios unidos si han usado uno (o más) hashtags\n",
    "* MODE = \"hashtag\": red de hashtags unidos si han sido usados por uno (o más) usuarios"
   ]
  },
  {
   "cell_type": "code",
   "execution_count": 13,
   "metadata": {},
   "outputs": [],
   "source": [
    "import networkx as nx\n",
    "import pandas as pd\n",
    "from tqdm import tqdm\n",
    "import os"
   ]
  },
  {
   "cell_type": "code",
   "execution_count": 23,
   "metadata": {},
   "outputs": [],
   "source": [
    "data_folder = \"data/\"\n",
    "graphs_folder_base = \"graphs2/nodes_\""
   ]
  },
  {
   "cell_type": "code",
   "execution_count": 22,
   "metadata": {},
   "outputs": [],
   "source": [
    "def create_bipartite_graph(df, graphs_folder, MANIFESTACION):\n",
    "    df_h = df[\"hour\"].unique()\n",
    "    print(\"Creando redes bipartitas, manifestación seleccionada:\", MANIFESTACION, \"número de horas: \", len(df_h))\n",
    "    G = nx.Graph()\n",
    "    for hour in tqdm(df_h):\n",
    "        df_hour = df[(df[\"hour\"] == hour)]\n",
    "        G = nx.from_pandas_edgelist(df_hour, source=\"user\", target=\"hashtag\", edge_attr=\"weight\")\n",
    "        nx.write_gexf(G, graphs_folder + str(hour) + \".gexf\")"
   ]
  },
  {
   "cell_type": "code",
   "execution_count": 24,
   "metadata": {},
   "outputs": [],
   "source": [
    "def create_graphs(node_criteria, edge_criteria, df, graphs_folder):\n",
    "    df_h = df[\"hour\"].unique()\n",
    "    print(\"Creando redes de\", node_criteria, \"unidos si comparten uno o más\", edge_criteria, \", manifestación seleccionada:\", MANIFESTACION, \"número de horas: \", len(df_h))\n",
    "    for hour in tqdm(df_h):\n",
    "        G = nx.Graph()\n",
    "        df_hour = df[(df[\"hour\"] == hour)]\n",
    "        df_nodes = df_hour[node_criteria].unique()\n",
    "        G.add_nodes_from(df_nodes)\n",
    "        for node in df_nodes:\n",
    "            # Seleccionamos las filas del dataframe con el usuario/hashtag sobre el que iteramos\n",
    "            df_node_edge = df_hour.loc[df_hour[node_criteria] == node]\n",
    "            # Seleccionamos tantos hashtags/usuarios como haya que haya compartido el usuario/hasthag respectivamente\n",
    "            df_node_edge = df_node_edge[edge_criteria]\n",
    "            for edge in df_node_edge:\n",
    "                df_edge = df_hour.loc[df_hour[edge_criteria] == edge]\n",
    "                df_edge = df_edge[node_criteria]\n",
    "                for nd in df_edge:\n",
    "                    if nd != node:\n",
    "                        if G.has_edge(node, nd):\n",
    "                            G[node][nd][\"weight\"] += 1\n",
    "                        else:\n",
    "                            G.add_edge(node, nd, weight = 1)\n",
    "        nx.write_gexf(G, graphs_folder + str(hour) + \".gexf\")"
   ]
  },
  {
   "cell_type": "markdown",
   "metadata": {},
   "source": [
    "## MANIESTACIÓN 9N"
   ]
  },
  {
   "cell_type": "code",
   "execution_count": 17,
   "metadata": {},
   "outputs": [],
   "source": [
    "# Seleccionamos el fichero correspondiente a la manifestación social de la que queremos sacar la red\n",
    "MANIFESTACION = \"9n\"\n",
    "file_selected = data_folder + MANIFESTACION + '.txt'\n",
    "df_9n = pd.read_csv(file_selected, sep=' ')"
   ]
  },
  {
   "cell_type": "markdown",
   "metadata": {},
   "source": [
    "### MODE HASHTAGS AS NODES"
   ]
  },
  {
   "cell_type": "code",
   "execution_count": 18,
   "metadata": {},
   "outputs": [
    {
     "name": "stdout",
     "output_type": "stream",
     "text": [
      "[437040 437036 437002 436994 437006 437037 436995 437034 437007 437022\n",
      " 437015 437021 437061 437078 437038 437020 437023 437035 437018 437068\n",
      " 437003 436989 437024 437025 437055 437059 437060 436986 437047 437027\n",
      " 436987 437056 437065 437057 437026 437030 436998 436988 437062 437042\n",
      " 437005 437041 437074 437052 436985 437012 437029 437017 437039 436992\n",
      " 437019 437011 436984 437010 437063 437033 437069 436996 436991 437050\n",
      " 437066 437079 436990 437028 437051 437075 437046 437031 437014 436993\n",
      " 437053 437032 437016 437054 437076 437064 437077 437049 436999 437073\n",
      " 437000 437004 437044 437048 437071 437072 437009 437013 437058 437070\n",
      " 437008 437067 437043 437045 436997 437001 436983]\n",
      "Creando redes de hashtag unidos si comparten uno o más user , manifestación seleccionada: 9n número de horas:  97\n"
     ]
    },
    {
     "name": "stderr",
     "output_type": "stream",
     "text": [
      "100%|██████████| 97/97 [00:34<00:00,  2.79it/s]\n"
     ]
    }
   ],
   "source": [
    "graphs_folder = graphs_folder_base  + \"hashtag\" + '/' + MANIFESTACION + '/'\n",
    "create_graphs(\"hashtag\", \"user\", df_9n, graphs_folder)"
   ]
  },
  {
   "cell_type": "markdown",
   "metadata": {},
   "source": [
    "### MODE USERS AS NODES"
   ]
  },
  {
   "cell_type": "code",
   "execution_count": 19,
   "metadata": {},
   "outputs": [
    {
     "name": "stdout",
     "output_type": "stream",
     "text": [
      "[437040 437036 437002 436994 437006 437037 436995 437034 437007 437022\n",
      " 437015 437021 437061 437078 437038 437020 437023 437035 437018 437068\n",
      " 437003 436989 437024 437025 437055 437059 437060 436986 437047 437027\n",
      " 436987 437056 437065 437057 437026 437030 436998 436988 437062 437042\n",
      " 437005 437041 437074 437052 436985 437012 437029 437017 437039 436992\n",
      " 437019 437011 436984 437010 437063 437033 437069 436996 436991 437050\n",
      " 437066 437079 436990 437028 437051 437075 437046 437031 437014 436993\n",
      " 437053 437032 437016 437054 437076 437064 437077 437049 436999 437073\n",
      " 437000 437004 437044 437048 437071 437072 437009 437013 437058 437070\n",
      " 437008 437067 437043 437045 436997 437001 436983]\n",
      "Creando redes de user unidos si comparten uno o más hashtag , manifestación seleccionada: 9n número de horas:  97\n"
     ]
    },
    {
     "name": "stderr",
     "output_type": "stream",
     "text": [
      "100%|██████████| 97/97 [01:16<00:00,  1.27it/s]\n"
     ]
    }
   ],
   "source": [
    "graphs_folder = graphs_folder_base  + \"user\" + '/' + MANIFESTACION + '/'\n",
    "create_graphs(\"user\", \"hashtag\", df_9n, graphs_folder)"
   ]
  },
  {
   "cell_type": "markdown",
   "metadata": {},
   "source": [
    "### MODE BIPARTITE GRAPH"
   ]
  },
  {
   "cell_type": "code",
   "execution_count": 25,
   "metadata": {},
   "outputs": [
    {
     "name": "stdout",
     "output_type": "stream",
     "text": [
      "Creando redes bipartitas, manifestación seleccionada: 9n número de horas:  97\n"
     ]
    },
    {
     "name": "stderr",
     "output_type": "stream",
     "text": [
      "100%|██████████| 97/97 [00:05<00:00, 18.21it/s]\n"
     ]
    }
   ],
   "source": [
    "graphs_folder = graphs_folder_base + \"bipartite/\" + MANIFESTACION + '/'\n",
    "create_bipartite_graph(df_9n, graphs_folder, \"9n\")"
   ]
  },
  {
   "cell_type": "markdown",
   "metadata": {},
   "source": [
    "## MANIFESTACION NAT"
   ]
  },
  {
   "cell_type": "code",
   "execution_count": 26,
   "metadata": {},
   "outputs": [],
   "source": [
    "# Seleccionamos el fichero correspondiente a la manifestación social de la que queremos sacar la red\n",
    "MANIFESTACION = \"nat\"\n",
    "file_selected = data_folder + MANIFESTACION + '.txt'\n",
    "df_nat = pd.read_csv(file_selected, sep=' ')"
   ]
  },
  {
   "cell_type": "markdown",
   "metadata": {},
   "source": [
    "### MODE HASHTAGS AS NODES"
   ]
  },
  {
   "cell_type": "code",
   "execution_count": 27,
   "metadata": {},
   "outputs": [
    {
     "name": "stdout",
     "output_type": "stream",
     "text": [
      "[429569 429665 429543 429639 429663 429711 429591 429759 429735 429615\n",
      " 429567 429687 429783 429788 429781 429667 429758 429642 429546 429590\n",
      " 429592 429596 429612 429634 429671 429622 429672 429673 429640 429625\n",
      " 429686 429575 429670 429635 429767 429638 429669 429696 429684 429601\n",
      " 429620 429624 429627 429646 429650 429664 429619 429742 429621 429708\n",
      " 429729 429757 429769 429710 429733 429766 429715 429768 429734 429613\n",
      " 429637 429644 429668 429674 429695 429744 429675 429782 429623 429784\n",
      " 429552 429722 429550 429690 429786 429762 429610 429531 429756 429577\n",
      " 429609 429585 429753 429682 429752 429778 429681 429559 429532 429787\n",
      " 429614 429764 429717 429736 429760 429714 429636 429689 429761 429584\n",
      " 429685 429662 429540 429698 429688 429598 429578 429645 429712 429566\n",
      " 429739 429725 429716 429583 429576 429699 429718 429580 429666 429649\n",
      " 429599 429700 429605 429721 429773 429572 429571 429626 429741 429749\n",
      " 429737 429594 429555 429723 429588 429589 429738 429754 429691 429755\n",
      " 429593 429770 429602 429748 429692 429595 429772 429785 429790 429544\n",
      " 429732 429617 429731 429565 429765 429548 429586 429745 429659 429709\n",
      " 429746 429747 429777 429763 429694 429677 429676 429616 429771 429611\n",
      " 429549 429561 429564 429604 429660 429780 429651 429541 429719 429697\n",
      " 429553 429606 429643 429656 429743 429701 429683 429707 429720 429740\n",
      " 429724 429542 429713 429574 429789 429547 429545 429573 429563 429562\n",
      " 429618 429730 429693 429652 429603 429779 429679 429630 429702 429654\n",
      " 429556 429629 429558 429648 429551 429570 429641 429680 429560 429632\n",
      " 429631 429568 429661 429658 429705 429579 429533 429597 429600 429727\n",
      " 429557 429750 429706 429587 429628 429678 429726 429582 429534 429774\n",
      " 429647 429653 429538 429535 429776 429554 429633 429539 429751 429657\n",
      " 429728 429537 429581 429655 429608 429775 429703 429704 429607 429536]\n",
      "Creando redes de hashtag unidos si comparten uno o más user , manifestación seleccionada: nat número de horas:  260\n"
     ]
    },
    {
     "name": "stderr",
     "output_type": "stream",
     "text": [
      "100%|██████████| 260/260 [00:24<00:00, 10.40it/s]\n"
     ]
    }
   ],
   "source": [
    "graphs_folder = graphs_folder_base  + \"hashtag\" + '/' + MANIFESTACION + '/'\n",
    "create_graphs(\"hashtag\", \"user\", df_nat, graphs_folder)"
   ]
  },
  {
   "cell_type": "markdown",
   "metadata": {},
   "source": [
    "### MODE USERS AS NODES"
   ]
  },
  {
   "cell_type": "code",
   "execution_count": 28,
   "metadata": {},
   "outputs": [
    {
     "name": "stdout",
     "output_type": "stream",
     "text": [
      "[429569 429665 429543 429639 429663 429711 429591 429759 429735 429615\n",
      " 429567 429687 429783 429788 429781 429667 429758 429642 429546 429590\n",
      " 429592 429596 429612 429634 429671 429622 429672 429673 429640 429625\n",
      " 429686 429575 429670 429635 429767 429638 429669 429696 429684 429601\n",
      " 429620 429624 429627 429646 429650 429664 429619 429742 429621 429708\n",
      " 429729 429757 429769 429710 429733 429766 429715 429768 429734 429613\n",
      " 429637 429644 429668 429674 429695 429744 429675 429782 429623 429784\n",
      " 429552 429722 429550 429690 429786 429762 429610 429531 429756 429577\n",
      " 429609 429585 429753 429682 429752 429778 429681 429559 429532 429787\n",
      " 429614 429764 429717 429736 429760 429714 429636 429689 429761 429584\n",
      " 429685 429662 429540 429698 429688 429598 429578 429645 429712 429566\n",
      " 429739 429725 429716 429583 429576 429699 429718 429580 429666 429649\n",
      " 429599 429700 429605 429721 429773 429572 429571 429626 429741 429749\n",
      " 429737 429594 429555 429723 429588 429589 429738 429754 429691 429755\n",
      " 429593 429770 429602 429748 429692 429595 429772 429785 429790 429544\n",
      " 429732 429617 429731 429565 429765 429548 429586 429745 429659 429709\n",
      " 429746 429747 429777 429763 429694 429677 429676 429616 429771 429611\n",
      " 429549 429561 429564 429604 429660 429780 429651 429541 429719 429697\n",
      " 429553 429606 429643 429656 429743 429701 429683 429707 429720 429740\n",
      " 429724 429542 429713 429574 429789 429547 429545 429573 429563 429562\n",
      " 429618 429730 429693 429652 429603 429779 429679 429630 429702 429654\n",
      " 429556 429629 429558 429648 429551 429570 429641 429680 429560 429632\n",
      " 429631 429568 429661 429658 429705 429579 429533 429597 429600 429727\n",
      " 429557 429750 429706 429587 429628 429678 429726 429582 429534 429774\n",
      " 429647 429653 429538 429535 429776 429554 429633 429539 429751 429657\n",
      " 429728 429537 429581 429655 429608 429775 429703 429704 429607 429536]\n",
      "Creando redes de user unidos si comparten uno o más hashtag , manifestación seleccionada: nat número de horas:  260\n"
     ]
    },
    {
     "name": "stderr",
     "output_type": "stream",
     "text": [
      "100%|██████████| 260/260 [00:37<00:00,  6.99it/s]\n"
     ]
    }
   ],
   "source": [
    "graphs_folder = graphs_folder_base  + \"user\" + '/' + MANIFESTACION + '/'\n",
    "create_graphs(\"user\", \"hashtag\", df_nat, graphs_folder)"
   ]
  },
  {
   "cell_type": "markdown",
   "metadata": {},
   "source": [
    "### MODE BIPARTITE GRAPH"
   ]
  },
  {
   "cell_type": "code",
   "execution_count": 30,
   "metadata": {},
   "outputs": [
    {
     "name": "stdout",
     "output_type": "stream",
     "text": [
      "Creando redes bipartitas, manifestación seleccionada: nat número de horas:  260\n"
     ]
    },
    {
     "name": "stderr",
     "output_type": "stream",
     "text": [
      "100%|██████████| 260/260 [00:04<00:00, 54.18it/s]\n"
     ]
    }
   ],
   "source": [
    "graphs_folder = graphs_folder_base + \"bipartite/\" + MANIFESTACION + '/'\n",
    "create_bipartite_graph(df_nat, graphs_folder, \"nat\")"
   ]
  }
 ],
 "metadata": {
  "kernelspec": {
   "display_name": ".venv",
   "language": "python",
   "name": "python3"
  },
  "language_info": {
   "codemirror_mode": {
    "name": "ipython",
    "version": 3
   },
   "file_extension": ".py",
   "mimetype": "text/x-python",
   "name": "python",
   "nbconvert_exporter": "python",
   "pygments_lexer": "ipython3",
   "version": "3.12.3"
  }
 },
 "nbformat": 4,
 "nbformat_minor": 2
}
