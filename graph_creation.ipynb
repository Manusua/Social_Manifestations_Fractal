{
 "cells": [
  {
   "cell_type": "markdown",
   "metadata": {},
   "source": [
    "# Creación de grafos\n",
    "Funcionalidades para transformar los archivos \".csv\" dados en grafos guardados en archivos con la extensión \".gexf\".\n",
    "\n",
    "Dos tipos de modos: \n",
    "* MODE = \"user\": red de usuarios unidos si han usado uno (o más) hashtags\n",
    "* MODE = \"hashtag\": red de hashtags unidos si han sido usados por uno (o más) usuarios"
   ]
  },
  {
   "cell_type": "code",
   "execution_count": 50,
   "metadata": {},
   "outputs": [],
   "source": [
    "import networkx as nx\n",
    "import pandas as pd\n",
    "from tqdm import tqdm\n",
    "import os"
   ]
  },
  {
   "cell_type": "code",
   "execution_count": 51,
   "metadata": {},
   "outputs": [],
   "source": [
    "data_folder = \"data/csv/\"\n",
    "graphs_folder = \"graphs/\"\n",
    "plots_folder = \"plots/\"\n",
    "\n",
    "# Seleccionamos el fichero correspondiente a la manifestación social de la que queremos sacar la red\n",
    "MANIFESTACION = \"9n\"\n",
    "#MANIFESTACION = \"nat\"\n",
    "\n",
    "# Seleccionamos el modo con el que queremos crear nuestra red: Hashtags como nodos o usuarios como nodos\n",
    "#MODE = \"user\"\n",
    "MODE = \"hashtag\"\n"
   ]
  },
  {
   "cell_type": "code",
   "execution_count": 52,
   "metadata": {},
   "outputs": [],
   "source": [
    "def select_file(MANIFESTACION):\n",
    "    files = os.listdir(data_folder + MANIFESTACION + '/')\n",
    "\n",
    "    # Solo hay un archivo en el directorio\n",
    "    if len(files) == 1:\n",
    "        name_file = files[0]\n",
    "        file_selected = os.path.join(data_folder + MANIFESTACION + '/', name_file)\n",
    "        return file_selected\n",
    "    else:\n",
    "        print(\"ERROR: l directorio no contiene un solo archivo.\")\n",
    "        return -1"
   ]
  },
  {
   "cell_type": "code",
   "execution_count": 53,
   "metadata": {},
   "outputs": [],
   "source": [
    "file_selected = select_file(MANIFESTACION)\n",
    "modes_folder = \"nodes_\" + MODE + '/'\n",
    "graphs_folder = graphs_folder + modes_folder + MANIFESTACION + '/'\n",
    "plots_folder = plots_folder + modes_folder + MANIFESTACION + '/'"
   ]
  },
  {
   "cell_type": "code",
   "execution_count": 54,
   "metadata": {},
   "outputs": [],
   "source": [
    "df = pd.read_csv(file_selected, sep=' ')\n",
    "df_h = df[\"hour\"].unique()"
   ]
  },
  {
   "cell_type": "code",
   "execution_count": 55,
   "metadata": {},
   "outputs": [],
   "source": [
    "def create_graphs(node_criteria, edge_criteria):\n",
    "    print(\"Creando redes de\", node_criteria, \"unidos si comparten uno o más\", edge_criteria, \", manifestación seleccionada:\", MANIFESTACION)\n",
    "    G = nx.Graph()\n",
    "    for hour in tqdm(df_h):\n",
    "        df_hour = df[(df[\"hour\"] == hour)]\n",
    "        df_nodes = df_hour[node_criteria].unique()\n",
    "        G.add_nodes_from(df_nodes)\n",
    "        for node in df_nodes:\n",
    "            # Seleccionamos las filas del dataframe con el usuario/hashtag sobre el que iteramos\n",
    "            df_node_edge = df_hour.loc[df_hour[node_criteria] == node]\n",
    "            # Seleccionamos tantos hashtags/usuarios como haya que haya compartido el usuario/hasthag respectivamente\n",
    "            df_node_edge = df_node_edge[edge_criteria]\n",
    "            for edge in df_node_edge:\n",
    "                df_edge = df_hour.loc[df_hour[edge_criteria] == edge]\n",
    "                df_edge = df_edge[node_criteria]\n",
    "                for nd in df_edge:\n",
    "                    if nd != node:\n",
    "                        if G.has_edge(node, nd):\n",
    "                            G[node][nd][\"weight\"] += 1\n",
    "                        else:\n",
    "                            G.add_edge(node, nd, weight = 1)\n",
    "        nx.write_gexf(G, graphs_folder + str(hour) + \".gexf\")"
   ]
  },
  {
   "cell_type": "code",
   "execution_count": 56,
   "metadata": {},
   "outputs": [
    {
     "name": "stdout",
     "output_type": "stream",
     "text": [
      "Creando redes de hashtag unidos si comparten uno o más user , manifestación seleccionada: 9n\n"
     ]
    },
    {
     "name": "stderr",
     "output_type": "stream",
     "text": [
      "100%|██████████| 97/97 [06:26<00:00,  3.98s/it]\n"
     ]
    }
   ],
   "source": [
    "if MODE == \"user\":\n",
    "    create_graphs(\"user\", \"hashtag\")\n",
    "elif MODE == \"hashtag\":\n",
    "    create_graphs(\"hashtag\", \"user\")\n",
    "else:\n",
    "    print(\"ERROR: MODE solo puede ser de tipo user o hashtag\")"
   ]
  }
 ],
 "metadata": {
  "kernelspec": {
   "display_name": ".venv",
   "language": "python",
   "name": "python3"
  },
  "language_info": {
   "codemirror_mode": {
    "name": "ipython",
    "version": 3
   },
   "file_extension": ".py",
   "mimetype": "text/x-python",
   "name": "python",
   "nbconvert_exporter": "python",
   "pygments_lexer": "ipython3",
   "version": "3.10.12"
  }
 },
 "nbformat": 4,
 "nbformat_minor": 2
}
