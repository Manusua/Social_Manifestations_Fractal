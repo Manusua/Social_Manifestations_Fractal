{
 "cells": [
  {
   "cell_type": "code",
   "execution_count": 58,
   "metadata": {},
   "outputs": [],
   "source": [
    "import os\n",
    "import networkx as nx\n",
    "import datetime\n",
    "import tqdm as tqdm\n",
    "import matplotlib.pyplot as plt"
   ]
  },
  {
   "cell_type": "code",
   "execution_count": 67,
   "metadata": {},
   "outputs": [],
   "source": [
    "path = \"graphs/nodes_hashtag/\"\n",
    "MANIFESTACION = \"9n\"\n",
    "if MANIFESTACION is \"9n\":\n",
    "    "
   ]
  },
  {
   "cell_type": "code",
   "execution_count": 68,
   "metadata": {},
   "outputs": [
    {
     "name": "stderr",
     "output_type": "stream",
     "text": [
      "  0%|          | 0/97 [00:00<?, ?it/s]"
     ]
    },
    {
     "name": "stdout",
     "output_type": "stream",
     "text": [
      "Analizando grafo 437010\n"
     ]
    },
    {
     "name": "stderr",
     "output_type": "stream",
     "text": [
      "  1%|          | 1/97 [00:37<1:00:06, 37.56s/it]"
     ]
    },
    {
     "name": "stdout",
     "output_type": "stream",
     "text": [
      "Analizado grafo 437010 coef_avg_clust: 0.728119 coef_mod: 0.43915\n",
      "Analizando grafo 437015\n"
     ]
    },
    {
     "name": "stderr",
     "output_type": "stream",
     "text": [
      "  2%|▏         | 2/97 [00:42<29:16, 18.49s/it]  "
     ]
    },
    {
     "name": "stdout",
     "output_type": "stream",
     "text": [
      "Analizado grafo 437015 coef_avg_clust: 0.746036 coef_mod: 0.461214\n",
      "Analizando grafo 437069\n"
     ]
    },
    {
     "name": "stderr",
     "output_type": "stream",
     "text": [
      "  3%|▎         | 3/97 [01:10<35:37, 22.74s/it]"
     ]
    },
    {
     "name": "stdout",
     "output_type": "stream",
     "text": [
      "Analizado grafo 437069 coef_avg_clust: 0.727975 coef_mod: 0.440086\n",
      "Analizando grafo 437011\n"
     ]
    },
    {
     "name": "stderr",
     "output_type": "stream",
     "text": [
      "  4%|▍         | 4/97 [01:35<36:48, 23.74s/it]"
     ]
    },
    {
     "name": "stdout",
     "output_type": "stream",
     "text": [
      "Analizado grafo 437011 coef_avg_clust: 0.732184 coef_mod: 0.437534\n",
      "Analizando grafo 437019\n"
     ]
    },
    {
     "name": "stderr",
     "output_type": "stream",
     "text": [
      "  5%|▌         | 5/97 [01:55<33:59, 22.17s/it]"
     ]
    },
    {
     "name": "stdout",
     "output_type": "stream",
     "text": [
      "Analizado grafo 437019 coef_avg_clust: 0.732345 coef_mod: 0.439299\n",
      "Analizando grafo 437048\n"
     ]
    },
    {
     "name": "stderr",
     "output_type": "stream",
     "text": [
      "  6%|▌         | 6/97 [02:29<39:43, 26.19s/it]"
     ]
    },
    {
     "name": "stdout",
     "output_type": "stream",
     "text": [
      "Analizado grafo 437048 coef_avg_clust: 0.723797 coef_mod: 0.441317\n",
      "Analizando grafo 437070\n"
     ]
    },
    {
     "name": "stderr",
     "output_type": "stream",
     "text": [
      "  7%|▋         | 7/97 [03:43<1:02:42, 41.80s/it]"
     ]
    },
    {
     "name": "stdout",
     "output_type": "stream",
     "text": [
      "Analizado grafo 437070 coef_avg_clust: 0.721833 coef_mod: 0.442948\n",
      "Analizando grafo 437018\n"
     ]
    },
    {
     "name": "stderr",
     "output_type": "stream",
     "text": [
      "  8%|▊         | 8/97 [03:55<47:54, 32.30s/it]  "
     ]
    },
    {
     "name": "stdout",
     "output_type": "stream",
     "text": [
      "Analizado grafo 437018 coef_avg_clust: 0.7409 coef_mod: 0.421451\n",
      "Analizando grafo 437067\n"
     ]
    },
    {
     "name": "stderr",
     "output_type": "stream",
     "text": [
      "  9%|▉         | 9/97 [05:10<1:07:10, 45.80s/it]"
     ]
    },
    {
     "name": "stdout",
     "output_type": "stream",
     "text": [
      "Analizado grafo 437067 coef_avg_clust: 0.721342 coef_mod: 0.443833\n",
      "Analizando grafo 437022\n"
     ]
    },
    {
     "name": "stderr",
     "output_type": "stream",
     "text": [
      " 10%|█         | 10/97 [05:16<48:45, 33.63s/it] "
     ]
    },
    {
     "name": "stdout",
     "output_type": "stream",
     "text": [
      "Analizado grafo 437022 coef_avg_clust: 0.751269 coef_mod: 0.466286\n",
      "Analizando grafo 437058\n"
     ]
    },
    {
     "name": "stderr",
     "output_type": "stream",
     "text": [
      " 11%|█▏        | 11/97 [06:24<1:02:55, 43.90s/it]"
     ]
    },
    {
     "name": "stdout",
     "output_type": "stream",
     "text": [
      "Analizado grafo 437058 coef_avg_clust: 0.721988 coef_mod: 0.44273\n",
      "Analizando grafo 437025\n"
     ]
    },
    {
     "name": "stderr",
     "output_type": "stream",
     "text": [
      " 12%|█▏        | 12/97 [06:41<50:53, 35.92s/it]  "
     ]
    },
    {
     "name": "stdout",
     "output_type": "stream",
     "text": [
      "Analizado grafo 437025 coef_avg_clust: 0.74252 coef_mod: 0.43091\n",
      "Analizando grafo 437034\n"
     ]
    },
    {
     "name": "stderr",
     "output_type": "stream",
     "text": [
      " 13%|█▎        | 13/97 [06:47<37:26, 26.75s/it]"
     ]
    },
    {
     "name": "stdout",
     "output_type": "stream",
     "text": [
      "Analizado grafo 437034 coef_avg_clust: 0.753759 coef_mod: 0.460188\n",
      "Analizando grafo 437044\n"
     ]
    },
    {
     "name": "stderr",
     "output_type": "stream",
     "text": [
      " 14%|█▍        | 14/97 [08:00<56:30, 40.85s/it]"
     ]
    },
    {
     "name": "stdout",
     "output_type": "stream",
     "text": [
      "Analizado grafo 437044 coef_avg_clust: 0.723721 coef_mod: 0.441933\n",
      "Analizando grafo 437028\n"
     ]
    },
    {
     "name": "stderr",
     "output_type": "stream",
     "text": [
      " 15%|█▌        | 15/97 [08:42<56:00, 40.98s/it]"
     ]
    },
    {
     "name": "stdout",
     "output_type": "stream",
     "text": [
      "Analizado grafo 437028 coef_avg_clust: 0.725139 coef_mod: 0.4476\n",
      "Analizando grafo 437036\n"
     ]
    },
    {
     "name": "stderr",
     "output_type": "stream",
     "text": [
      " 16%|█▋        | 16/97 [08:43<39:18, 29.11s/it]"
     ]
    },
    {
     "name": "stdout",
     "output_type": "stream",
     "text": [
      "Analizado grafo 437036 coef_avg_clust: 0.757947 coef_mod: 0.300449\n",
      "Analizando grafo 437068\n"
     ]
    },
    {
     "name": "stderr",
     "output_type": "stream",
     "text": [
      " 18%|█▊        | 17/97 [08:53<31:01, 23.27s/it]"
     ]
    },
    {
     "name": "stdout",
     "output_type": "stream",
     "text": [
      "Analizado grafo 437068 coef_avg_clust: 0.741842 coef_mod: 0.424433\n",
      "Analizando grafo 437038\n"
     ]
    },
    {
     "name": "stderr",
     "output_type": "stream",
     "text": [
      " 19%|█▊        | 18/97 [09:02<25:09, 19.11s/it]"
     ]
    },
    {
     "name": "stdout",
     "output_type": "stream",
     "text": [
      "Analizado grafo 437038 coef_avg_clust: 0.740221 coef_mod: 0.428896\n",
      "Analizando grafo 437030\n"
     ]
    },
    {
     "name": "stderr",
     "output_type": "stream",
     "text": [
      " 20%|█▉        | 19/97 [09:38<31:28, 24.21s/it]"
     ]
    },
    {
     "name": "stdout",
     "output_type": "stream",
     "text": [
      "Analizado grafo 437030 coef_avg_clust: 0.73261 coef_mod: 0.449648\n",
      "Analizando grafo 437009\n"
     ]
    },
    {
     "name": "stderr",
     "output_type": "stream",
     "text": [
      " 21%|██        | 20/97 [11:05<55:09, 42.97s/it]"
     ]
    },
    {
     "name": "stdout",
     "output_type": "stream",
     "text": [
      "Analizado grafo 437009 coef_avg_clust: 0.72186 coef_mod: 0.441754\n",
      "Analizando grafo 437056\n"
     ]
    },
    {
     "name": "stderr",
     "output_type": "stream",
     "text": [
      " 22%|██▏       | 21/97 [11:24<45:18, 35.77s/it]"
     ]
    },
    {
     "name": "stdout",
     "output_type": "stream",
     "text": [
      "Analizado grafo 437056 coef_avg_clust: 0.736681 coef_mod: 0.455222\n",
      "Analizando grafo 437042\n"
     ]
    },
    {
     "name": "stderr",
     "output_type": "stream",
     "text": [
      " 23%|██▎       | 22/97 [12:02<45:28, 36.38s/it]"
     ]
    },
    {
     "name": "stdout",
     "output_type": "stream",
     "text": [
      "Analizado grafo 437042 coef_avg_clust: 0.733233 coef_mod: 0.444907\n",
      "Analizando grafo 436991\n"
     ]
    },
    {
     "name": "stderr",
     "output_type": "stream",
     "text": [
      " 24%|██▎       | 23/97 [12:44<47:07, 38.20s/it]"
     ]
    },
    {
     "name": "stdout",
     "output_type": "stream",
     "text": [
      "Analizado grafo 436991 coef_avg_clust: 0.725885 coef_mod: 0.438914\n",
      "Analizando grafo 437057\n"
     ]
    },
    {
     "name": "stderr",
     "output_type": "stream",
     "text": [
      " 25%|██▍       | 24/97 [13:07<40:44, 33.48s/it]"
     ]
    },
    {
     "name": "stdout",
     "output_type": "stream",
     "text": [
      "Analizado grafo 437057 coef_avg_clust: 0.73177 coef_mod: 0.452228\n",
      "Analizando grafo 436988\n"
     ]
    },
    {
     "name": "stderr",
     "output_type": "stream",
     "text": [
      " 26%|██▌       | 25/97 [13:41<40:17, 33.58s/it]"
     ]
    },
    {
     "name": "stdout",
     "output_type": "stream",
     "text": [
      "Analizado grafo 436988 coef_avg_clust: 0.731584 coef_mod: 0.453736\n",
      "Analizando grafo 436985\n"
     ]
    },
    {
     "name": "stderr",
     "output_type": "stream",
     "text": [
      " 27%|██▋       | 26/97 [14:16<40:16, 34.03s/it]"
     ]
    },
    {
     "name": "stdout",
     "output_type": "stream",
     "text": [
      "Analizado grafo 436985 coef_avg_clust: 0.73107 coef_mod: 0.445731\n",
      "Analizando grafo 436984\n"
     ]
    },
    {
     "name": "stderr",
     "output_type": "stream",
     "text": [
      " 28%|██▊       | 27/97 [14:59<43:04, 36.92s/it]"
     ]
    },
    {
     "name": "stdout",
     "output_type": "stream",
     "text": [
      "Analizado grafo 436984 coef_avg_clust: 0.730141 coef_mod: 0.438721\n",
      "Analizando grafo 437027\n"
     ]
    },
    {
     "name": "stderr",
     "output_type": "stream",
     "text": [
      " 29%|██▉       | 28/97 [15:17<35:53, 31.21s/it]"
     ]
    },
    {
     "name": "stdout",
     "output_type": "stream",
     "text": [
      "Analizado grafo 437027 coef_avg_clust: 0.73997 coef_mod: 0.453166\n",
      "Analizando grafo 437074\n"
     ]
    },
    {
     "name": "stderr",
     "output_type": "stream",
     "text": [
      " 30%|██▉       | 29/97 [15:46<34:23, 30.35s/it]"
     ]
    },
    {
     "name": "stdout",
     "output_type": "stream",
     "text": [
      "Analizado grafo 437074 coef_avg_clust: 0.734389 coef_mod: 0.446732\n",
      "Analizando grafo 436992\n"
     ]
    },
    {
     "name": "stderr",
     "output_type": "stream",
     "text": [
      " 31%|███       | 30/97 [16:18<34:41, 31.06s/it]"
     ]
    },
    {
     "name": "stdout",
     "output_type": "stream",
     "text": [
      "Analizado grafo 436992 coef_avg_clust: 0.73316 coef_mod: 0.440616\n",
      "Analizando grafo 437007\n"
     ]
    },
    {
     "name": "stderr",
     "output_type": "stream",
     "text": [
      " 32%|███▏      | 31/97 [16:24<25:50, 23.49s/it]"
     ]
    },
    {
     "name": "stdout",
     "output_type": "stream",
     "text": [
      "Analizado grafo 437007 coef_avg_clust: 0.751727 coef_mod: 0.476363\n",
      "Analizando grafo 436995\n"
     ]
    },
    {
     "name": "stderr",
     "output_type": "stream",
     "text": [
      " 33%|███▎      | 32/97 [16:29<19:29, 17.99s/it]"
     ]
    },
    {
     "name": "stdout",
     "output_type": "stream",
     "text": [
      "Analizado grafo 436995 coef_avg_clust: 0.756525 coef_mod: 0.444946\n",
      "Analizando grafo 437039\n"
     ]
    },
    {
     "name": "stderr",
     "output_type": "stream",
     "text": [
      " 34%|███▍      | 33/97 [17:02<23:45, 22.28s/it]"
     ]
    },
    {
     "name": "stdout",
     "output_type": "stream",
     "text": [
      "Analizado grafo 437039 coef_avg_clust: 0.733433 coef_mod: 0.43942\n",
      "Analizando grafo 437041\n"
     ]
    },
    {
     "name": "stderr",
     "output_type": "stream",
     "text": [
      " 35%|███▌      | 34/97 [17:28<24:46, 23.60s/it]"
     ]
    },
    {
     "name": "stdout",
     "output_type": "stream",
     "text": [
      "Analizado grafo 437041 coef_avg_clust: 0.734502 coef_mod: 0.443311\n",
      "Analizando grafo 437008\n"
     ]
    },
    {
     "name": "stderr",
     "output_type": "stream",
     "text": [
      " 36%|███▌      | 35/97 [18:27<35:13, 34.09s/it]"
     ]
    },
    {
     "name": "stdout",
     "output_type": "stream",
     "text": [
      "Analizado grafo 437008 coef_avg_clust: 0.721489 coef_mod: 0.442566\n",
      "Analizando grafo 437024\n"
     ]
    },
    {
     "name": "stderr",
     "output_type": "stream",
     "text": [
      " 37%|███▋      | 36/97 [18:39<28:06, 27.65s/it]"
     ]
    },
    {
     "name": "stdout",
     "output_type": "stream",
     "text": [
      "Analizado grafo 437024 coef_avg_clust: 0.741489 coef_mod: 0.427782\n",
      "Analizando grafo 436993\n"
     ]
    },
    {
     "name": "stderr",
     "output_type": "stream",
     "text": [
      " 38%|███▊      | 37/97 [19:31<34:53, 34.90s/it]"
     ]
    },
    {
     "name": "stdout",
     "output_type": "stream",
     "text": [
      "Analizado grafo 436993 coef_avg_clust: 0.724849 coef_mod: 0.448035\n",
      "Analizando grafo 437029\n"
     ]
    },
    {
     "name": "stderr",
     "output_type": "stream",
     "text": [
      " 39%|███▉      | 38/97 [20:06<34:14, 34.83s/it]"
     ]
    },
    {
     "name": "stdout",
     "output_type": "stream",
     "text": [
      "Analizado grafo 437029 coef_avg_clust: 0.731299 coef_mod: 0.449584\n",
      "Analizando grafo 437002\n"
     ]
    },
    {
     "name": "stderr",
     "output_type": "stream",
     "text": [
      " 40%|████      | 39/97 [20:07<23:56, 24.76s/it]"
     ]
    },
    {
     "name": "stdout",
     "output_type": "stream",
     "text": [
      "Analizado grafo 437002 coef_avg_clust: 0.749813 coef_mod: 0.367688\n",
      "Analizando grafo 437054\n"
     ]
    },
    {
     "name": "stderr",
     "output_type": "stream",
     "text": [
      " 41%|████      | 40/97 [21:06<33:14, 34.99s/it]"
     ]
    },
    {
     "name": "stdout",
     "output_type": "stream",
     "text": [
      "Analizado grafo 437054 coef_avg_clust: 0.725232 coef_mod: 0.443777\n",
      "Analizando grafo 437040\n"
     ]
    },
    {
     "name": "stderr",
     "output_type": "stream",
     "text": [
      " 42%|████▏     | 41/97 [21:07<23:02, 24.68s/it]"
     ]
    },
    {
     "name": "stdout",
     "output_type": "stream",
     "text": [
      "Analizado grafo 437040 coef_avg_clust: 0.768396 coef_mod: 0.309674\n",
      "Analizando grafo 437079\n"
     ]
    },
    {
     "name": "stderr",
     "output_type": "stream",
     "text": [
      " 43%|████▎     | 42/97 [21:52<28:17, 30.86s/it]"
     ]
    },
    {
     "name": "stdout",
     "output_type": "stream",
     "text": [
      "Analizado grafo 437079 coef_avg_clust: 0.726048 coef_mod: 0.445766\n",
      "Analizando grafo 437031\n"
     ]
    },
    {
     "name": "stderr",
     "output_type": "stream",
     "text": [
      " 44%|████▍     | 43/97 [22:41<32:37, 36.25s/it]"
     ]
    },
    {
     "name": "stdout",
     "output_type": "stream",
     "text": [
      "Analizado grafo 437031 coef_avg_clust: 0.725889 coef_mod: 0.449565\n",
      "Analizando grafo 437017\n"
     ]
    },
    {
     "name": "stderr",
     "output_type": "stream",
     "text": [
      " 45%|████▌     | 44/97 [23:16<31:52, 36.09s/it]"
     ]
    },
    {
     "name": "stdout",
     "output_type": "stream",
     "text": [
      "Analizado grafo 437017 coef_avg_clust: 0.733047 coef_mod: 0.44705\n",
      "Analizando grafo 437076\n"
     ]
    },
    {
     "name": "stderr",
     "output_type": "stream",
     "text": [
      " 46%|████▋     | 45/97 [24:31<41:11, 47.53s/it]"
     ]
    },
    {
     "name": "stdout",
     "output_type": "stream",
     "text": [
      "Analizado grafo 437076 coef_avg_clust: 0.724504 coef_mod: 0.445644\n",
      "Analizando grafo 437045\n"
     ]
    },
    {
     "name": "stderr",
     "output_type": "stream",
     "text": [
      " 47%|████▋     | 46/97 [25:26<42:28, 49.98s/it]"
     ]
    },
    {
     "name": "stdout",
     "output_type": "stream",
     "text": [
      "Analizado grafo 437045 coef_avg_clust: 0.721626 coef_mod: 0.438325\n",
      "Analizando grafo 437021\n"
     ]
    },
    {
     "name": "stderr",
     "output_type": "stream",
     "text": [
      " 48%|████▊     | 47/97 [25:32<30:27, 36.55s/it]"
     ]
    },
    {
     "name": "stdout",
     "output_type": "stream",
     "text": [
      "Analizado grafo 437021 coef_avg_clust: 0.747289 coef_mod: 0.460482\n",
      "Analizando grafo 437014\n"
     ]
    },
    {
     "name": "stderr",
     "output_type": "stream",
     "text": [
      " 49%|████▉     | 48/97 [26:05<29:04, 35.60s/it]"
     ]
    },
    {
     "name": "stdout",
     "output_type": "stream",
     "text": [
      "Analizado grafo 437014 coef_avg_clust: 0.725639 coef_mod: 0.449676\n",
      "Analizando grafo 436998\n"
     ]
    },
    {
     "name": "stderr",
     "output_type": "stream",
     "text": [
      " 51%|█████     | 49/97 [26:21<23:49, 29.78s/it]"
     ]
    },
    {
     "name": "stdout",
     "output_type": "stream",
     "text": [
      "Analizado grafo 436998 coef_avg_clust: 0.73255 coef_mod: 0.449029\n",
      "Analizando grafo 437071\n"
     ]
    },
    {
     "name": "stderr",
     "output_type": "stream",
     "text": [
      " 52%|█████▏    | 50/97 [27:06<26:45, 34.16s/it]"
     ]
    },
    {
     "name": "stdout",
     "output_type": "stream",
     "text": [
      "Analizado grafo 437071 coef_avg_clust: 0.723705 coef_mod: 0.438301\n",
      "Analizando grafo 437043\n"
     ]
    },
    {
     "name": "stderr",
     "output_type": "stream",
     "text": [
      " 53%|█████▎    | 51/97 [27:51<28:40, 37.41s/it]"
     ]
    },
    {
     "name": "stdout",
     "output_type": "stream",
     "text": [
      "Analizado grafo 437043 coef_avg_clust: 0.721226 coef_mod: 0.440609\n",
      "Analizando grafo 437033\n"
     ]
    },
    {
     "name": "stderr",
     "output_type": "stream",
     "text": [
      " 54%|█████▎    | 52/97 [28:18<25:47, 34.39s/it]"
     ]
    },
    {
     "name": "stdout",
     "output_type": "stream",
     "text": [
      "Analizado grafo 437033 coef_avg_clust: 0.72844 coef_mod: 0.438208\n",
      "Analizando grafo 437060\n"
     ]
    },
    {
     "name": "stderr",
     "output_type": "stream",
     "text": [
      " 55%|█████▍    | 53/97 [28:29<20:08, 27.48s/it]"
     ]
    },
    {
     "name": "stdout",
     "output_type": "stream",
     "text": [
      "Analizado grafo 437060 coef_avg_clust: 0.74018 coef_mod: 0.438446\n",
      "Analizando grafo 436990\n"
     ]
    },
    {
     "name": "stderr",
     "output_type": "stream",
     "text": [
      " 56%|█████▌    | 54/97 [29:00<20:17, 28.32s/it]"
     ]
    },
    {
     "name": "stdout",
     "output_type": "stream",
     "text": [
      "Analizado grafo 436990 coef_avg_clust: 0.725222 coef_mod: 0.445257\n",
      "Analizando grafo 437037\n"
     ]
    },
    {
     "name": "stderr",
     "output_type": "stream",
     "text": [
      " 57%|█████▋    | 55/97 [29:03<14:30, 20.73s/it]"
     ]
    },
    {
     "name": "stdout",
     "output_type": "stream",
     "text": [
      "Analizado grafo 437037 coef_avg_clust: 0.763659 coef_mod: 0.444269\n",
      "Analizando grafo 437023\n"
     ]
    },
    {
     "name": "stderr",
     "output_type": "stream",
     "text": [
      " 58%|█████▊    | 56/97 [29:10<11:28, 16.78s/it]"
     ]
    },
    {
     "name": "stdout",
     "output_type": "stream",
     "text": [
      "Analizado grafo 437023 coef_avg_clust: 0.74256 coef_mod: 0.431738\n",
      "Analizando grafo 437065\n"
     ]
    },
    {
     "name": "stderr",
     "output_type": "stream",
     "text": [
      " 59%|█████▉    | 57/97 [29:24<10:37, 15.94s/it]"
     ]
    },
    {
     "name": "stdout",
     "output_type": "stream",
     "text": [
      "Analizado grafo 437065 coef_avg_clust: 0.735055 coef_mod: 0.452915\n",
      "Analizando grafo 437013\n"
     ]
    },
    {
     "name": "stderr",
     "output_type": "stream",
     "text": [
      " 60%|█████▉    | 58/97 [30:05<15:17, 23.54s/it]"
     ]
    },
    {
     "name": "stdout",
     "output_type": "stream",
     "text": [
      "Analizado grafo 437013 coef_avg_clust: 0.721934 coef_mod: 0.443013\n",
      "Analizando grafo 436997\n"
     ]
    },
    {
     "name": "stderr",
     "output_type": "stream",
     "text": [
      " 61%|██████    | 59/97 [30:52<19:17, 30.45s/it]"
     ]
    },
    {
     "name": "stdout",
     "output_type": "stream",
     "text": [
      "Analizado grafo 436997 coef_avg_clust: 0.721657 coef_mod: 0.43802\n",
      "Analizando grafo 437051\n"
     ]
    },
    {
     "name": "stderr",
     "output_type": "stream",
     "text": [
      " 62%|██████▏   | 60/97 [31:37<21:28, 34.84s/it]"
     ]
    },
    {
     "name": "stdout",
     "output_type": "stream",
     "text": [
      "Analizado grafo 437051 coef_avg_clust: 0.725465 coef_mod: 0.444239\n",
      "Analizando grafo 437032\n"
     ]
    },
    {
     "name": "stderr",
     "output_type": "stream",
     "text": [
      " 63%|██████▎   | 61/97 [32:18<21:55, 36.53s/it]"
     ]
    },
    {
     "name": "stdout",
     "output_type": "stream",
     "text": [
      "Analizado grafo 437032 coef_avg_clust: 0.725592 coef_mod: 0.447542\n",
      "Analizando grafo 437062\n"
     ]
    },
    {
     "name": "stderr",
     "output_type": "stream",
     "text": [
      " 64%|██████▍   | 62/97 [32:38<18:30, 31.73s/it]"
     ]
    },
    {
     "name": "stdout",
     "output_type": "stream",
     "text": [
      "Analizado grafo 437062 coef_avg_clust: 0.732575 coef_mod: 0.451633\n",
      "Analizando grafo 437005\n"
     ]
    },
    {
     "name": "stderr",
     "output_type": "stream",
     "text": [
      " 65%|██████▍   | 63/97 [33:01<16:27, 29.05s/it]"
     ]
    },
    {
     "name": "stdout",
     "output_type": "stream",
     "text": [
      "Analizado grafo 437005 coef_avg_clust: 0.733028 coef_mod: 0.451132\n",
      "Analizando grafo 436986\n"
     ]
    },
    {
     "name": "stderr",
     "output_type": "stream",
     "text": [
      " 66%|██████▌   | 64/97 [33:17<13:50, 25.18s/it]"
     ]
    },
    {
     "name": "stdout",
     "output_type": "stream",
     "text": [
      "Analizado grafo 436986 coef_avg_clust: 0.737012 coef_mod: 0.439629\n",
      "Analizando grafo 436989\n"
     ]
    },
    {
     "name": "stderr",
     "output_type": "stream",
     "text": [
      " 67%|██████▋   | 65/97 [33:31<11:39, 21.86s/it]"
     ]
    },
    {
     "name": "stdout",
     "output_type": "stream",
     "text": [
      "Analizado grafo 436989 coef_avg_clust: 0.740835 coef_mod: 0.428711\n",
      "Analizando grafo 437075\n"
     ]
    },
    {
     "name": "stderr",
     "output_type": "stream",
     "text": [
      " 68%|██████▊   | 66/97 [34:11<14:08, 27.38s/it]"
     ]
    },
    {
     "name": "stdout",
     "output_type": "stream",
     "text": [
      "Analizado grafo 437075 coef_avg_clust: 0.725628 coef_mod: 0.4517\n",
      "Analizando grafo 437050\n"
     ]
    },
    {
     "name": "stderr",
     "output_type": "stream",
     "text": [
      " 69%|██████▉   | 67/97 [34:47<14:58, 29.95s/it]"
     ]
    },
    {
     "name": "stdout",
     "output_type": "stream",
     "text": [
      "Analizado grafo 437050 coef_avg_clust: 0.726029 coef_mod: 0.438399\n",
      "Analizando grafo 437001\n"
     ]
    },
    {
     "name": "stderr",
     "output_type": "stream",
     "text": [
      " 70%|███████   | 68/97 [35:43<18:15, 37.79s/it]"
     ]
    },
    {
     "name": "stdout",
     "output_type": "stream",
     "text": [
      "Analizado grafo 437001 coef_avg_clust: 0.721839 coef_mod: 0.437614\n",
      "Analizando grafo 437003\n"
     ]
    },
    {
     "name": "stderr",
     "output_type": "stream",
     "text": [
      " 71%|███████   | 69/97 [35:53<13:39, 29.26s/it]"
     ]
    },
    {
     "name": "stdout",
     "output_type": "stream",
     "text": [
      "Analizado grafo 437003 coef_avg_clust: 0.741194 coef_mod: 0.423273\n",
      "Analizando grafo 437066\n"
     ]
    },
    {
     "name": "stderr",
     "output_type": "stream",
     "text": [
      " 72%|███████▏  | 70/97 [36:24<13:29, 29.98s/it]"
     ]
    },
    {
     "name": "stdout",
     "output_type": "stream",
     "text": [
      "Analizado grafo 437066 coef_avg_clust: 0.72638 coef_mod: 0.44289\n",
      "Analizando grafo 437059\n"
     ]
    },
    {
     "name": "stderr",
     "output_type": "stream",
     "text": [
      " 73%|███████▎  | 71/97 [36:36<10:35, 24.43s/it]"
     ]
    },
    {
     "name": "stdout",
     "output_type": "stream",
     "text": [
      "Analizado grafo 437059 coef_avg_clust: 0.740863 coef_mod: 0.436447\n",
      "Analizando grafo 437026\n"
     ]
    },
    {
     "name": "stderr",
     "output_type": "stream",
     "text": [
      " 74%|███████▍  | 72/97 [36:52<09:07, 21.90s/it]"
     ]
    },
    {
     "name": "stdout",
     "output_type": "stream",
     "text": [
      "Analizado grafo 437026 coef_avg_clust: 0.731818 coef_mod: 0.447534\n",
      "Analizando grafo 437049\n"
     ]
    },
    {
     "name": "stderr",
     "output_type": "stream",
     "text": [
      " 75%|███████▌  | 73/97 [37:36<11:27, 28.66s/it]"
     ]
    },
    {
     "name": "stdout",
     "output_type": "stream",
     "text": [
      "Analizado grafo 437049 coef_avg_clust: 0.724751 coef_mod: 0.442521\n",
      "Analizando grafo 437047\n"
     ]
    },
    {
     "name": "stderr",
     "output_type": "stream",
     "text": [
      " 76%|███████▋  | 74/97 [37:49<09:08, 23.84s/it]"
     ]
    },
    {
     "name": "stdout",
     "output_type": "stream",
     "text": [
      "Analizado grafo 437047 coef_avg_clust: 0.736944 coef_mod: 0.439274\n",
      "Analizando grafo 437053\n"
     ]
    },
    {
     "name": "stderr",
     "output_type": "stream",
     "text": [
      " 77%|███████▋  | 75/97 [38:25<10:08, 27.65s/it]"
     ]
    },
    {
     "name": "stdout",
     "output_type": "stream",
     "text": [
      "Analizado grafo 437053 coef_avg_clust: 0.72544 coef_mod: 0.449013\n",
      "Analizando grafo 437077\n"
     ]
    },
    {
     "name": "stderr",
     "output_type": "stream",
     "text": [
      " 78%|███████▊  | 76/97 [39:06<11:00, 31.46s/it]"
     ]
    },
    {
     "name": "stdout",
     "output_type": "stream",
     "text": [
      "Analizado grafo 437077 coef_avg_clust: 0.724417 coef_mod: 0.441849\n",
      "Analizando grafo 436983\n"
     ]
    },
    {
     "name": "stderr",
     "output_type": "stream",
     "text": [
      " 79%|███████▉  | 77/97 [39:52<12:00, 36.02s/it]"
     ]
    },
    {
     "name": "stdout",
     "output_type": "stream",
     "text": [
      "Analizado grafo 436983 coef_avg_clust: 0.721762 coef_mod: 0.437316\n",
      "Analizando grafo 437046\n"
     ]
    },
    {
     "name": "stderr",
     "output_type": "stream",
     "text": [
      " 80%|████████  | 78/97 [40:28<11:19, 35.77s/it]"
     ]
    },
    {
     "name": "stdout",
     "output_type": "stream",
     "text": [
      "Analizado grafo 437046 coef_avg_clust: 0.725971 coef_mod: 0.451306\n",
      "Analizando grafo 436996\n"
     ]
    },
    {
     "name": "stderr",
     "output_type": "stream",
     "text": [
      " 81%|████████▏ | 79/97 [40:58<10:15, 34.17s/it]"
     ]
    },
    {
     "name": "stdout",
     "output_type": "stream",
     "text": [
      "Analizado grafo 436996 coef_avg_clust: 0.727815 coef_mod: 0.439564\n",
      "Analizando grafo 437061\n"
     ]
    },
    {
     "name": "stderr",
     "output_type": "stream",
     "text": [
      " 82%|████████▏ | 80/97 [41:05<07:21, 25.96s/it]"
     ]
    },
    {
     "name": "stdout",
     "output_type": "stream",
     "text": [
      "Analizado grafo 437061 coef_avg_clust: 0.742327 coef_mod: 0.45333\n",
      "Analizando grafo 437004\n"
     ]
    },
    {
     "name": "stderr",
     "output_type": "stream",
     "text": [
      " 84%|████████▎ | 81/97 [41:49<08:21, 31.32s/it]"
     ]
    },
    {
     "name": "stdout",
     "output_type": "stream",
     "text": [
      "Analizado grafo 437004 coef_avg_clust: 0.724101 coef_mod: 0.442829\n",
      "Analizando grafo 437000\n"
     ]
    },
    {
     "name": "stderr",
     "output_type": "stream",
     "text": [
      " 85%|████████▍ | 82/97 [42:34<08:54, 35.60s/it]"
     ]
    },
    {
     "name": "stdout",
     "output_type": "stream",
     "text": [
      "Analizado grafo 437000 coef_avg_clust: 0.725283 coef_mod: 0.442659\n",
      "Analizando grafo 436987\n"
     ]
    },
    {
     "name": "stderr",
     "output_type": "stream",
     "text": [
      " 86%|████████▌ | 83/97 [42:48<06:46, 29.03s/it]"
     ]
    },
    {
     "name": "stdout",
     "output_type": "stream",
     "text": [
      "Analizado grafo 436987 coef_avg_clust: 0.737788 coef_mod: 0.455357\n",
      "Analizando grafo 437035\n"
     ]
    },
    {
     "name": "stderr",
     "output_type": "stream",
     "text": [
      " 87%|████████▋ | 84/97 [42:57<04:58, 22.95s/it]"
     ]
    },
    {
     "name": "stdout",
     "output_type": "stream",
     "text": [
      "Analizado grafo 437035 coef_avg_clust: 0.741926 coef_mod: 0.424267\n",
      "Analizando grafo 436994\n"
     ]
    },
    {
     "name": "stderr",
     "output_type": "stream",
     "text": [
      " 88%|████████▊ | 85/97 [42:58<03:18, 16.53s/it]"
     ]
    },
    {
     "name": "stdout",
     "output_type": "stream",
     "text": [
      "Analizado grafo 436994 coef_avg_clust: 0.742692 coef_mod: 0.418003\n",
      "Analizando grafo 437012\n"
     ]
    },
    {
     "name": "stderr",
     "output_type": "stream",
     "text": [
      " 89%|████████▊ | 86/97 [43:20<03:19, 18.16s/it]"
     ]
    },
    {
     "name": "stdout",
     "output_type": "stream",
     "text": [
      "Analizado grafo 437012 coef_avg_clust: 0.731311 coef_mod: 0.447555\n",
      "Analizando grafo 437020\n"
     ]
    },
    {
     "name": "stderr",
     "output_type": "stream",
     "text": [
      " 90%|████████▉ | 87/97 [43:28<02:29, 14.90s/it]"
     ]
    },
    {
     "name": "stdout",
     "output_type": "stream",
     "text": [
      "Analizado grafo 437020 coef_avg_clust: 0.742363 coef_mod: 0.430843\n",
      "Analizando grafo 437063\n"
     ]
    },
    {
     "name": "stderr",
     "output_type": "stream",
     "text": [
      " 91%|█████████ | 88/97 [43:53<02:42, 18.04s/it]"
     ]
    },
    {
     "name": "stdout",
     "output_type": "stream",
     "text": [
      "Analizado grafo 437063 coef_avg_clust: 0.72862 coef_mod: 0.438172\n",
      "Analizando grafo 437072\n"
     ]
    },
    {
     "name": "stderr",
     "output_type": "stream",
     "text": [
      " 92%|█████████▏| 89/97 [44:36<03:24, 25.53s/it]"
     ]
    },
    {
     "name": "stdout",
     "output_type": "stream",
     "text": [
      "Analizado grafo 437072 coef_avg_clust: 0.723311 coef_mod: 0.438886\n",
      "Analizando grafo 437016\n"
     ]
    },
    {
     "name": "stderr",
     "output_type": "stream",
     "text": [
      " 93%|█████████▎| 90/97 [45:13<03:23, 29.05s/it]"
     ]
    },
    {
     "name": "stdout",
     "output_type": "stream",
     "text": [
      "Analizado grafo 437016 coef_avg_clust: 0.725331 coef_mod: 0.444821\n",
      "Analizando grafo 436999\n"
     ]
    },
    {
     "name": "stderr",
     "output_type": "stream",
     "text": [
      " 94%|█████████▍| 91/97 [45:57<03:20, 33.41s/it]"
     ]
    },
    {
     "name": "stdout",
     "output_type": "stream",
     "text": [
      "Analizado grafo 436999 coef_avg_clust: 0.724855 coef_mod: 0.441955\n",
      "Analizando grafo 437055\n"
     ]
    },
    {
     "name": "stderr",
     "output_type": "stream",
     "text": [
      " 95%|█████████▍| 92/97 [46:15<02:23, 28.80s/it]"
     ]
    },
    {
     "name": "stdout",
     "output_type": "stream",
     "text": [
      "Analizado grafo 437055 coef_avg_clust: 0.741151 coef_mod: 0.437001\n",
      "Analizando grafo 437006\n"
     ]
    },
    {
     "name": "stderr",
     "output_type": "stream",
     "text": [
      " 96%|█████████▌| 93/97 [46:18<01:24, 21.17s/it]"
     ]
    },
    {
     "name": "stdout",
     "output_type": "stream",
     "text": [
      "Analizado grafo 437006 coef_avg_clust: 0.752727 coef_mod: 0.513525\n",
      "Analizando grafo 437078\n"
     ]
    },
    {
     "name": "stderr",
     "output_type": "stream",
     "text": [
      " 97%|█████████▋| 94/97 [46:27<00:52, 17.44s/it]"
     ]
    },
    {
     "name": "stdout",
     "output_type": "stream",
     "text": [
      "Analizado grafo 437078 coef_avg_clust: 0.737687 coef_mod: 0.449401\n",
      "Analizando grafo 437052\n"
     ]
    },
    {
     "name": "stderr",
     "output_type": "stream",
     "text": [
      " 98%|█████████▊| 95/97 [46:58<00:43, 21.56s/it]"
     ]
    },
    {
     "name": "stdout",
     "output_type": "stream",
     "text": [
      "Analizado grafo 437052 coef_avg_clust: 0.73363 coef_mod: 0.444568\n",
      "Analizando grafo 437064\n"
     ]
    },
    {
     "name": "stderr",
     "output_type": "stream",
     "text": [
      " 99%|█████████▉| 96/97 [47:44<00:28, 28.88s/it]"
     ]
    },
    {
     "name": "stdout",
     "output_type": "stream",
     "text": [
      "Analizado grafo 437064 coef_avg_clust: 0.723915 coef_mod: 0.442733\n",
      "Analizando grafo 437073\n"
     ]
    },
    {
     "name": "stderr",
     "output_type": "stream",
     "text": [
      "100%|██████████| 97/97 [48:41<00:00, 30.12s/it]"
     ]
    },
    {
     "name": "stdout",
     "output_type": "stream",
     "text": [
      "Analizado grafo 437073 coef_avg_clust: 0.725132 coef_mod: 0.441251\n"
     ]
    },
    {
     "name": "stderr",
     "output_type": "stream",
     "text": [
      "\n"
     ]
    }
   ],
   "source": [
    "direct = path + MANIFESTACION + '/'\n",
    "arr_clust = []\n",
    "arr_hour = []\n",
    "arr_mod = []\n",
    "for root, dirs, files in os.walk(direct, topdown=False):\n",
    "   for name in tqdm.tqdm(files):\n",
    "      if name.endswith(\".gexf\"):\n",
    "            print(\"Analizando grafo\", name[:-5])\n",
    "            G = nx.read_gexf(direct + name)\n",
    "            avg_clust=nx.average_clustering(G)\n",
    "            arr_clust.append(avg_clust)\n",
    "            arr_hour.append(name[:-5])\n",
    "            modularity_louv = nx.community.modularity(G, nx.community.louvain_communities(G, seed=123))\n",
    "            arr_mod.append(modularity_louv)\n",
    "            print(\"Analizado grafo\", name[:-5], \"coef_avg_clust:\", round(avg_clust, 6), \"coef_mod:\", round(modularity_louv, 6))"
   ]
  },
  {
   "cell_type": "code",
   "execution_count": 69,
   "metadata": {},
   "outputs": [],
   "source": [
    "data = list(zip(arr_hour, arr_clust, arr_mod))\n",
    "data.sort()\n",
    "hour_sort, clust_sort, mod_sort = zip(*data)\n",
    "hour_sort = list(hour_sort)\n",
    "clust_sort = list(clust_sort)\n",
    "mod_sort = list(mod_sort)"
   ]
  },
  {
   "cell_type": "code",
   "execution_count": 70,
   "metadata": {},
   "outputs": [
    {
     "name": "stdout",
     "output_type": "stream",
     "text": [
      "9n , hora con avg_clust max 2019-11-10 01:00:00 hour_name: 437040\n",
      "9n , hora con avg_clust min 2019-11-10 04:00:00 hour_name: 437043\n",
      "9n , hora con modularity max 2019-11-08 15:00:00 hour_name: 437006\n",
      "9n , hora con modularity min 2019-11-09 21:00:00 hour_name: 437036\n"
     ]
    }
   ],
   "source": [
    "dt_sort_arr=[]\n",
    "for hour in hour_sort:\n",
    "    dt_sort_arr.append(datetime.datetime.fromtimestamp(int(hour)*3600))\n",
    "print(MANIFESTACION, \", hora con avg_clust max\", dt_sort_arr[clust_sort.index(max(clust_sort))], \"hour_name:\", hour_sort[clust_sort.index(max(clust_sort))])\n",
    "print(MANIFESTACION, \", hora con avg_clust min\", dt_sort_arr[clust_sort.index(min(clust_sort))], \"hour_name:\", hour_sort[clust_sort.index(min(clust_sort))])\n",
    "\n",
    "print(MANIFESTACION, \", hora con modularity max\", dt_sort_arr[mod_sort.index(max(mod_sort))], \"hour_name:\", hour_sort[mod_sort.index(max(mod_sort))])\n",
    "print(MANIFESTACION, \", hora con modularity min\", dt_sort_arr[mod_sort.index(min(mod_sort))], \"hour_name:\", hour_sort[mod_sort.index(min(mod_sort))])"
   ]
  },
  {
   "cell_type": "code",
   "execution_count": 87,
   "metadata": {},
   "outputs": [
    {
     "name": "stdout",
     "output_type": "stream",
     "text": [
      "['436983', '436984', '436985', '436986', '436987', '436988', '436989', '436990', '436991', '436992', '436993', '436994', '436995', '436996', '436997', '436998', '436999', '437000', '437001', '437002', '437003', '437004', '437005', '437006', '437007', '437008', '437009', '437010', '437011', '437012', '437013', '437014', '437015', '437016', '437017', '437018', '437019', '437020', '437021', '437022', '437023', '437024', '437025', '437026', '437027', '437028', '437029', '437030', '437031', '437032', '437033', '437034', '437035', '437036', '437037', '437038', '437039', '437040', '437041', '437042', '437043', '437044', '437045', '437046', '437047', '437048', '437049', '437050', '437051', '437052', '437053', '437054', '437055', '437056', '437057', '437058', '437059', '437060', '437061', '437062', '437063', '437064', '437065', '437066', '437067', '437068', '437069', '437070', '437071', '437072', '437073', '437074', '437075', '437076', '437077', '437078', '437079']\n"
     ]
    },
    {
     "ename": "ValueError",
     "evalue": "436999.0 is not in list",
     "output_type": "error",
     "traceback": [
      "\u001b[0;31m---------------------------------------------------------------------------\u001b[0m",
      "\u001b[0;31mValueError\u001b[0m                                Traceback (most recent call last)",
      "Cell \u001b[0;32mIn[87], line 6\u001b[0m\n\u001b[1;32m      4\u001b[0m index_fecha\u001b[38;5;241m=\u001b[39mhour_sort\u001b[38;5;241m.\u001b[39mindex(fecha)\n\u001b[1;32m      5\u001b[0m init\u001b[38;5;241m=\u001b[39m\u001b[38;5;241m1573196400\u001b[39m\u001b[38;5;241m/\u001b[39m\u001b[38;5;241m3600\u001b[39m\n\u001b[0;32m----> 6\u001b[0m index_fecha\u001b[38;5;241m=\u001b[39m\u001b[43mhour_sort\u001b[49m\u001b[38;5;241;43m.\u001b[39;49m\u001b[43mindex\u001b[49m\u001b[43m(\u001b[49m\u001b[43minit\u001b[49m\u001b[43m)\u001b[49m\n\u001b[1;32m      7\u001b[0m end\u001b[38;5;241m=\u001b[39m\u001b[38;5;241m1573405200\u001b[39m\u001b[38;5;241m/\u001b[39m\u001b[38;5;241m3600\u001b[39m\n\u001b[1;32m      8\u001b[0m index_end\u001b[38;5;241m=\u001b[39mhour_sort\u001b[38;5;241m.\u001b[39mindex(end)\n",
      "\u001b[0;31mValueError\u001b[0m: 436999.0 is not in list"
     ]
    }
   ],
   "source": [
    "print(hour_sort)\n",
    "if MANIFESTACION == \"9n\":\n",
    "        fecha=str(int(437038))\n",
    "        index_fecha=hour_sort.index(fecha)\n",
    "        init=1573196400/3600\n",
    "        index_fecha=hour_sort.index(init)\n",
    "        end=1573405200/3600\n",
    "        index_end=hour_sort.index(end)\n",
    "else:\n",
    "        fecha=429624\n",
    "        index_fecha=hour_sort.index(fecha)\n",
    "        init=1546297200/3600\n",
    "        index_init=hour_sort.index(init)\n",
    "        end=1546902000/3600\n",
    "        index_end=hour_sort.index(end)\n",
    "print(\"Fecha identificada en paper para\", MANIFESTACION, datetime.datetime.fromtimestamp(int(fecha)*3600))\n",
    "print(\"Fecha iniial en paper\", dt_sort_arr[index_init], \", fecha final en paper\", dt_sort_arr[index_end])\n",
    "plt.figure(figsize=(14,6)) \n",
    "plt.style.use('seaborn-v0_8-darkgrid')    \n",
    "\n",
    "\n",
    "\n",
    "plt.plot(dt_sort_arr, clust_sort, alpha=0.8, c=\"blue\", label=\"Clustering coefficient\")\n",
    "plt.plot(dt_sort_arr, mod_sort, alpha=0.8, c=\"orange\", label=\"Modularity coefficient\")\n",
    "\n",
    "name_max_clust = str(dt_sort_arr[clust_sort.index(max(clust_sort))]) + \", max avg_clust: \" + str(round(max(clust_sort), 6))\n",
    "name_min_clust  = str(dt_sort_arr[clust_sort.index(min(clust_sort))]) + \", min avg_clust: \" + str(round(min(clust_sort), 6))\n",
    "plt.scatter(dt_sort_arr[clust_sort.index(max(clust_sort))], max(clust_sort), s=30, c=\"blue\", marker=\"o\", label = name_max_clust)\n",
    "plt.scatter(dt_sort_arr[clust_sort.index(min(clust_sort))], min(clust_sort), s=30, c=\"green\", marker=\"o\", label = name_min_clust)\n",
    "\n",
    "name_max_mod = str(dt_sort_arr[mod_sort.index(max(mod_sort))]) + \", max mod: \" + str(round(max(mod_sort), 6))\n",
    "name_min_mod  = str(dt_sort_arr[mod_sort.index(min(mod_sort))]) + \", min mod: \" + str(round(min(mod_sort), 6))\n",
    "plt.scatter(dt_sort_arr[mod_sort.index(max(mod_sort))], max(mod_sort), s=30, c=\"orange\", marker=\"*\", label = name_max_mod)\n",
    "plt.scatter(dt_sort_arr[mod_sort.index(min(mod_sort))], min(mod_sort), s=30, c=\"red\", marker=\"*\", label = name_min_mod)\n",
    "        #plt.plot(points[0], points[1], alpha=alpha, label=\"K_T = \" + str(arr_kt_plot[index]))\n",
    "plt.xlabel(\"Hora\")\n",
    "plt.ylabel(\"AVG clust\")\n",
    "plt.xticks(dt_sort_arr[::4], labels=dt_sort_arr[::4])\n",
    "plt.xticks(rotation=90)\n",
    "plt.title(\"Average clustering coefficient and modularity- \" + MANIFESTACION)\n",
    "plt.legend()\n",
    "\n",
    "plt.savefig(\"avg_clust_mod_\" + MANIFESTACION)\n",
    "\n",
    "plt.show()\n"
   ]
  },
  {
   "cell_type": "code",
   "execution_count": null,
   "metadata": {},
   "outputs": [],
   "source": []
  }
 ],
 "metadata": {
  "kernelspec": {
   "display_name": ".venv",
   "language": "python",
   "name": "python3"
  },
  "language_info": {
   "codemirror_mode": {
    "name": "ipython",
    "version": 3
   },
   "file_extension": ".py",
   "mimetype": "text/x-python",
   "name": "python",
   "nbconvert_exporter": "python",
   "pygments_lexer": "ipython3",
   "version": "3.10.12"
  }
 },
 "nbformat": 4,
 "nbformat_minor": 2
}
