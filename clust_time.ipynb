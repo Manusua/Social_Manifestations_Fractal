{
 "cells": [
  {
   "cell_type": "code",
   "execution_count": 58,
   "metadata": {},
   "outputs": [],
   "source": [
    "import os\n",
    "import networkx as nx\n",
    "import datetime\n",
    "import tqdm as tqdm\n",
    "import matplotlib.pyplot as plt"
   ]
  },
  {
   "cell_type": "code",
   "execution_count": 59,
   "metadata": {},
   "outputs": [],
   "source": [
    "path = \"graphs/nodes_hashtag/\"\n",
    "MANIFESTACION = \"nat\""
   ]
  },
  {
   "cell_type": "code",
   "execution_count": 60,
   "metadata": {},
   "outputs": [
    {
     "name": "stderr",
     "output_type": "stream",
     "text": [
      "  0%|          | 0/260 [00:00<?, ?it/s]"
     ]
    },
    {
     "name": "stdout",
     "output_type": "stream",
     "text": [
      "Analizando grafo 429777\n"
     ]
    },
    {
     "name": "stderr",
     "output_type": "stream",
     "text": [
      "  0%|          | 1/260 [00:08<37:38,  8.72s/it]"
     ]
    },
    {
     "name": "stdout",
     "output_type": "stream",
     "text": [
      "Analizado grafo 429777 coef_avg_clust: 0.598767\n",
      "Analizando grafo 429549\n"
     ]
    },
    {
     "name": "stderr",
     "output_type": "stream",
     "text": [
      "  1%|          | 2/260 [00:18<39:25,  9.17s/it]"
     ]
    },
    {
     "name": "stdout",
     "output_type": "stream",
     "text": [
      "Analizado grafo 429549 coef_avg_clust: 0.598735\n",
      "Analizando grafo 429752\n"
     ]
    },
    {
     "name": "stderr",
     "output_type": "stream",
     "text": [
      "  1%|          | 3/260 [00:23<31:51,  7.44s/it]"
     ]
    },
    {
     "name": "stdout",
     "output_type": "stream",
     "text": [
      "Analizado grafo 429752 coef_avg_clust: 0.604076\n",
      "Analizando grafo 429666\n"
     ]
    },
    {
     "name": "stderr",
     "output_type": "stream",
     "text": [
      "  2%|▏         | 4/260 [00:29<29:57,  7.02s/it]"
     ]
    },
    {
     "name": "stdout",
     "output_type": "stream",
     "text": [
      "Analizado grafo 429666 coef_avg_clust: 0.598925\n",
      "Analizando grafo 429701\n"
     ]
    },
    {
     "name": "stderr",
     "output_type": "stream",
     "text": [
      "  2%|▏         | 5/260 [00:39<33:43,  7.94s/it]"
     ]
    },
    {
     "name": "stdout",
     "output_type": "stream",
     "text": [
      "Analizado grafo 429701 coef_avg_clust: 0.597379\n",
      "Analizando grafo 429703\n"
     ]
    },
    {
     "name": "stderr",
     "output_type": "stream",
     "text": [
      "  2%|▏         | 6/260 [00:51<38:57,  9.20s/it]"
     ]
    },
    {
     "name": "stdout",
     "output_type": "stream",
     "text": [
      "Analizado grafo 429703 coef_avg_clust: 0.595694\n",
      "Analizando grafo 429598\n"
     ]
    },
    {
     "name": "stderr",
     "output_type": "stream",
     "text": [
      "  3%|▎         | 7/260 [00:56<34:04,  8.08s/it]"
     ]
    },
    {
     "name": "stdout",
     "output_type": "stream",
     "text": [
      "Analizado grafo 429598 coef_avg_clust: 0.601342\n",
      "Analizando grafo 429583\n"
     ]
    },
    {
     "name": "stderr",
     "output_type": "stream",
     "text": [
      "  3%|▎         | 8/260 [01:03<31:48,  7.57s/it]"
     ]
    },
    {
     "name": "stdout",
     "output_type": "stream",
     "text": [
      "Analizado grafo 429583 coef_avg_clust: 0.598428\n",
      "Analizando grafo 429788\n"
     ]
    },
    {
     "name": "stderr",
     "output_type": "stream",
     "text": [
      "  3%|▎         | 9/260 [01:03<22:29,  5.37s/it]"
     ]
    },
    {
     "name": "stdout",
     "output_type": "stream",
     "text": [
      "Analizado grafo 429788 coef_avg_clust: 0.59302\n",
      "Analizando grafo 429614\n"
     ]
    },
    {
     "name": "stderr",
     "output_type": "stream",
     "text": [
      "  4%|▍         | 10/260 [01:08<21:51,  5.24s/it]"
     ]
    },
    {
     "name": "stdout",
     "output_type": "stream",
     "text": [
      "Analizado grafo 429614 coef_avg_clust: 0.604387\n",
      "Analizando grafo 429587\n"
     ]
    },
    {
     "name": "stderr",
     "output_type": "stream",
     "text": [
      "  5%|▍         | 12/260 [01:21<21:12,  5.13s/it]"
     ]
    },
    {
     "name": "stdout",
     "output_type": "stream",
     "text": [
      "Analizado grafo 429587 coef_avg_clust: 0.595583\n",
      "Analizando grafo 429569\n",
      "Analizado grafo 429569 coef_avg_clust: 0.566415\n",
      "Analizando grafo 429604\n"
     ]
    },
    {
     "name": "stderr",
     "output_type": "stream",
     "text": [
      "  5%|▌         | 13/260 [01:29<25:32,  6.20s/it]"
     ]
    },
    {
     "name": "stdout",
     "output_type": "stream",
     "text": [
      "Analizado grafo 429604 coef_avg_clust: 0.598624\n",
      "Analizando grafo 429562\n"
     ]
    },
    {
     "name": "stderr",
     "output_type": "stream",
     "text": [
      "  5%|▌         | 14/260 [01:39<30:24,  7.42s/it]"
     ]
    },
    {
     "name": "stdout",
     "output_type": "stream",
     "text": [
      "Analizado grafo 429562 coef_avg_clust: 0.594514\n",
      "Analizando grafo 429652\n"
     ]
    },
    {
     "name": "stderr",
     "output_type": "stream",
     "text": [
      "  6%|▌         | 15/260 [01:50<34:20,  8.41s/it]"
     ]
    },
    {
     "name": "stdout",
     "output_type": "stream",
     "text": [
      "Analizado grafo 429652 coef_avg_clust: 0.593692\n",
      "Analizando grafo 429764\n"
     ]
    },
    {
     "name": "stderr",
     "output_type": "stream",
     "text": [
      "  6%|▌         | 16/260 [01:55<30:15,  7.44s/it]"
     ]
    },
    {
     "name": "stdout",
     "output_type": "stream",
     "text": [
      "Analizado grafo 429764 coef_avg_clust: 0.604055\n",
      "Analizando grafo 429668\n"
     ]
    },
    {
     "name": "stderr",
     "output_type": "stream",
     "text": [
      "  7%|▋         | 17/260 [01:59<25:12,  6.23s/it]"
     ]
    },
    {
     "name": "stdout",
     "output_type": "stream",
     "text": [
      "Analizado grafo 429668 coef_avg_clust: 0.607809\n",
      "Analizando grafo 429590\n"
     ]
    },
    {
     "name": "stderr",
     "output_type": "stream",
     "text": [
      "  7%|▋         | 18/260 [02:00<18:46,  4.66s/it]"
     ]
    },
    {
     "name": "stdout",
     "output_type": "stream",
     "text": [
      "Analizado grafo 429590 coef_avg_clust: 0.601367\n",
      "Analizando grafo 429678\n"
     ]
    },
    {
     "name": "stderr",
     "output_type": "stream",
     "text": [
      "  7%|▋         | 19/260 [02:11<26:18,  6.55s/it]"
     ]
    },
    {
     "name": "stdout",
     "output_type": "stream",
     "text": [
      "Analizado grafo 429678 coef_avg_clust: 0.596065\n",
      "Analizando grafo 429762\n"
     ]
    },
    {
     "name": "stderr",
     "output_type": "stream",
     "text": [
      "  8%|▊         | 20/260 [02:15<24:03,  6.02s/it]"
     ]
    },
    {
     "name": "stdout",
     "output_type": "stream",
     "text": [
      "Analizado grafo 429762 coef_avg_clust: 0.604206\n",
      "Analizando grafo 429768\n"
     ]
    },
    {
     "name": "stderr",
     "output_type": "stream",
     "text": [
      "  8%|▊         | 21/260 [02:19<20:51,  5.24s/it]"
     ]
    },
    {
     "name": "stdout",
     "output_type": "stream",
     "text": [
      "Analizado grafo 429768 coef_avg_clust: 0.606773\n",
      "Analizando grafo 429724\n"
     ]
    },
    {
     "name": "stderr",
     "output_type": "stream",
     "text": [
      "  8%|▊         | 22/260 [02:29<26:08,  6.59s/it]"
     ]
    },
    {
     "name": "stdout",
     "output_type": "stream",
     "text": [
      "Analizado grafo 429724 coef_avg_clust: 0.596657\n",
      "Analizando grafo 429637\n"
     ]
    },
    {
     "name": "stderr",
     "output_type": "stream",
     "text": [
      "  9%|▉         | 23/260 [02:32<22:11,  5.62s/it]"
     ]
    },
    {
     "name": "stdout",
     "output_type": "stream",
     "text": [
      "Analizado grafo 429637 coef_avg_clust: 0.607818\n",
      "Analizando grafo 429755\n"
     ]
    },
    {
     "name": "stderr",
     "output_type": "stream",
     "text": [
      "  9%|▉         | 24/260 [02:40<24:19,  6.18s/it]"
     ]
    },
    {
     "name": "stdout",
     "output_type": "stream",
     "text": [
      "Analizado grafo 429755 coef_avg_clust: 0.600133\n",
      "Analizando grafo 429646\n"
     ]
    },
    {
     "name": "stderr",
     "output_type": "stream",
     "text": [
      " 10%|▉         | 25/260 [02:42<19:41,  5.03s/it]"
     ]
    },
    {
     "name": "stdout",
     "output_type": "stream",
     "text": [
      "Analizado grafo 429646 coef_avg_clust: 0.603544\n",
      "Analizando grafo 429564\n"
     ]
    },
    {
     "name": "stderr",
     "output_type": "stream",
     "text": [
      " 10%|█         | 26/260 [02:51<24:17,  6.23s/it]"
     ]
    },
    {
     "name": "stdout",
     "output_type": "stream",
     "text": [
      "Analizado grafo 429564 coef_avg_clust: 0.598773\n",
      "Analizando grafo 429728\n"
     ]
    },
    {
     "name": "stderr",
     "output_type": "stream",
     "text": [
      " 10%|█         | 27/260 [03:03<31:08,  8.02s/it]"
     ]
    },
    {
     "name": "stdout",
     "output_type": "stream",
     "text": [
      "Analizado grafo 429728 coef_avg_clust: 0.595683\n",
      "Analizando grafo 429623\n"
     ]
    },
    {
     "name": "stderr",
     "output_type": "stream",
     "text": [
      " 11%|█         | 28/260 [03:07<26:13,  6.78s/it]"
     ]
    },
    {
     "name": "stdout",
     "output_type": "stream",
     "text": [
      "Analizado grafo 429623 coef_avg_clust: 0.608218\n",
      "Analizando grafo 429608\n"
     ]
    },
    {
     "name": "stderr",
     "output_type": "stream",
     "text": [
      " 11%|█         | 29/260 [03:19<31:40,  8.23s/it]"
     ]
    },
    {
     "name": "stdout",
     "output_type": "stream",
     "text": [
      "Analizado grafo 429608 coef_avg_clust: 0.595706\n",
      "Analizando grafo 429704\n"
     ]
    },
    {
     "name": "stderr",
     "output_type": "stream",
     "text": [
      " 12%|█▏        | 30/260 [03:30<35:15,  9.20s/it]"
     ]
    },
    {
     "name": "stdout",
     "output_type": "stream",
     "text": [
      "Analizado grafo 429704 coef_avg_clust: 0.595845\n",
      "Analizando grafo 429653\n"
     ]
    },
    {
     "name": "stderr",
     "output_type": "stream",
     "text": [
      " 12%|█▏        | 31/260 [03:42<37:56,  9.94s/it]"
     ]
    },
    {
     "name": "stdout",
     "output_type": "stream",
     "text": [
      "Analizado grafo 429653 coef_avg_clust: 0.595674\n",
      "Analizando grafo 429730\n"
     ]
    },
    {
     "name": "stderr",
     "output_type": "stream",
     "text": [
      " 12%|█▏        | 32/260 [03:52<38:28, 10.12s/it]"
     ]
    },
    {
     "name": "stdout",
     "output_type": "stream",
     "text": [
      "Analizado grafo 429730 coef_avg_clust: 0.59401\n",
      "Analizando grafo 429579\n"
     ]
    },
    {
     "name": "stderr",
     "output_type": "stream",
     "text": [
      " 13%|█▎        | 33/260 [04:03<39:28, 10.43s/it]"
     ]
    },
    {
     "name": "stdout",
     "output_type": "stream",
     "text": [
      "Analizado grafo 429579 coef_avg_clust: 0.594619\n",
      "Analizando grafo 429744\n"
     ]
    },
    {
     "name": "stderr",
     "output_type": "stream",
     "text": [
      " 13%|█▎        | 34/260 [04:07<31:30,  8.36s/it]"
     ]
    },
    {
     "name": "stdout",
     "output_type": "stream",
     "text": [
      "Analizado grafo 429744 coef_avg_clust: 0.606144\n",
      "Analizando grafo 429750\n"
     ]
    },
    {
     "name": "stderr",
     "output_type": "stream",
     "text": [
      " 13%|█▎        | 35/260 [04:18<34:28,  9.19s/it]"
     ]
    },
    {
     "name": "stdout",
     "output_type": "stream",
     "text": [
      "Analizado grafo 429750 coef_avg_clust: 0.595077\n",
      "Analizando grafo 429594\n"
     ]
    },
    {
     "name": "stderr",
     "output_type": "stream",
     "text": [
      " 14%|█▍        | 36/260 [04:25<31:42,  8.50s/it]"
     ]
    },
    {
     "name": "stdout",
     "output_type": "stream",
     "text": [
      "Analizado grafo 429594 coef_avg_clust: 0.598627\n",
      "Analizando grafo 429657\n"
     ]
    },
    {
     "name": "stderr",
     "output_type": "stream",
     "text": [
      " 14%|█▍        | 37/260 [04:36<34:43,  9.34s/it]"
     ]
    },
    {
     "name": "stdout",
     "output_type": "stream",
     "text": [
      "Analizado grafo 429657 coef_avg_clust: 0.595721\n",
      "Analizando grafo 429682\n"
     ]
    },
    {
     "name": "stderr",
     "output_type": "stream",
     "text": [
      " 15%|█▍        | 38/260 [04:41<29:29,  7.97s/it]"
     ]
    },
    {
     "name": "stdout",
     "output_type": "stream",
     "text": [
      "Analizado grafo 429682 coef_avg_clust: 0.604281\n",
      "Analizando grafo 429713\n"
     ]
    },
    {
     "name": "stderr",
     "output_type": "stream",
     "text": [
      " 15%|█▌        | 39/260 [04:51<31:33,  8.57s/it]"
     ]
    },
    {
     "name": "stdout",
     "output_type": "stream",
     "text": [
      "Analizado grafo 429713 coef_avg_clust: 0.596234\n",
      "Analizando grafo 429534\n"
     ]
    },
    {
     "name": "stderr",
     "output_type": "stream",
     "text": [
      " 15%|█▌        | 40/260 [05:02<34:02,  9.29s/it]"
     ]
    },
    {
     "name": "stdout",
     "output_type": "stream",
     "text": [
      "Analizado grafo 429534 coef_avg_clust: 0.595946\n",
      "Analizando grafo 429742\n"
     ]
    },
    {
     "name": "stderr",
     "output_type": "stream",
     "text": [
      " 16%|█▌        | 41/260 [05:04<26:25,  7.24s/it]"
     ]
    },
    {
     "name": "stdout",
     "output_type": "stream",
     "text": [
      "Analizado grafo 429742 coef_avg_clust: 0.602403\n",
      "Analizando grafo 429600\n"
     ]
    },
    {
     "name": "stderr",
     "output_type": "stream",
     "text": [
      " 16%|█▌        | 42/260 [05:15<30:26,  8.38s/it]"
     ]
    },
    {
     "name": "stdout",
     "output_type": "stream",
     "text": [
      "Analizado grafo 429600 coef_avg_clust: 0.594866\n",
      "Analizando grafo 429537\n"
     ]
    },
    {
     "name": "stderr",
     "output_type": "stream",
     "text": [
      " 17%|█▋        | 43/260 [05:27<33:56,  9.38s/it]"
     ]
    },
    {
     "name": "stdout",
     "output_type": "stream",
     "text": [
      "Analizado grafo 429537 coef_avg_clust: 0.595596\n",
      "Analizando grafo 429578\n"
     ]
    },
    {
     "name": "stderr",
     "output_type": "stream",
     "text": [
      " 17%|█▋        | 44/260 [05:33<29:29,  8.19s/it]"
     ]
    },
    {
     "name": "stdout",
     "output_type": "stream",
     "text": [
      "Analizado grafo 429578 coef_avg_clust: 0.600629\n",
      "Analizando grafo 429727\n"
     ]
    },
    {
     "name": "stderr",
     "output_type": "stream",
     "text": [
      " 17%|█▋        | 45/260 [05:43<32:11,  8.99s/it]"
     ]
    },
    {
     "name": "stdout",
     "output_type": "stream",
     "text": [
      "Analizado grafo 429727 coef_avg_clust: 0.59483\n",
      "Analizando grafo 429729\n"
     ]
    },
    {
     "name": "stderr",
     "output_type": "stream",
     "text": [
      " 18%|█▊        | 46/260 [05:46<25:37,  7.19s/it]"
     ]
    },
    {
     "name": "stdout",
     "output_type": "stream",
     "text": [
      "Analizado grafo 429729 coef_avg_clust: 0.60102\n",
      "Analizando grafo 429605\n"
     ]
    },
    {
     "name": "stderr",
     "output_type": "stream",
     "text": [
      " 18%|█▊        | 47/260 [05:53<24:40,  6.95s/it]"
     ]
    },
    {
     "name": "stdout",
     "output_type": "stream",
     "text": [
      "Analizado grafo 429605 coef_avg_clust: 0.599533\n",
      "Analizando grafo 429739\n"
     ]
    },
    {
     "name": "stderr",
     "output_type": "stream",
     "text": [
      " 18%|█▊        | 48/260 [05:59<23:36,  6.68s/it]"
     ]
    },
    {
     "name": "stdout",
     "output_type": "stream",
     "text": [
      "Analizado grafo 429739 coef_avg_clust: 0.599135\n",
      "Analizando grafo 429553\n"
     ]
    },
    {
     "name": "stderr",
     "output_type": "stream",
     "text": [
      " 19%|█▉        | 49/260 [06:09<26:49,  7.63s/it]"
     ]
    },
    {
     "name": "stdout",
     "output_type": "stream",
     "text": [
      "Analizado grafo 429553 coef_avg_clust: 0.597139\n",
      "Analizando grafo 429588\n"
     ]
    },
    {
     "name": "stderr",
     "output_type": "stream",
     "text": [
      " 19%|█▉        | 50/260 [06:16<26:17,  7.51s/it]"
     ]
    },
    {
     "name": "stdout",
     "output_type": "stream",
     "text": [
      "Analizado grafo 429588 coef_avg_clust: 0.598586\n",
      "Analizando grafo 429532\n"
     ]
    },
    {
     "name": "stderr",
     "output_type": "stream",
     "text": [
      " 20%|█▉        | 51/260 [06:21<23:14,  6.67s/it]"
     ]
    },
    {
     "name": "stdout",
     "output_type": "stream",
     "text": [
      "Analizado grafo 429532 coef_avg_clust: 0.60308\n",
      "Analizando grafo 429577\n"
     ]
    },
    {
     "name": "stderr",
     "output_type": "stream",
     "text": [
      " 20%|██        | 52/260 [06:26<21:20,  6.16s/it]"
     ]
    },
    {
     "name": "stdout",
     "output_type": "stream",
     "text": [
      "Analizado grafo 429577 coef_avg_clust: 0.604796\n",
      "Analizando grafo 429714\n"
     ]
    },
    {
     "name": "stderr",
     "output_type": "stream",
     "text": [
      " 20%|██        | 53/260 [06:31<20:25,  5.92s/it]"
     ]
    },
    {
     "name": "stdout",
     "output_type": "stream",
     "text": [
      "Analizado grafo 429714 coef_avg_clust: 0.601667\n",
      "Analizando grafo 429538\n"
     ]
    },
    {
     "name": "stderr",
     "output_type": "stream",
     "text": [
      " 21%|██        | 54/260 [06:43<26:19,  7.67s/it]"
     ]
    },
    {
     "name": "stdout",
     "output_type": "stream",
     "text": [
      "Analizado grafo 429538 coef_avg_clust: 0.595664\n",
      "Analizando grafo 429575\n"
     ]
    },
    {
     "name": "stderr",
     "output_type": "stream",
     "text": [
      " 21%|██        | 55/260 [06:44<20:02,  5.87s/it]"
     ]
    },
    {
     "name": "stdout",
     "output_type": "stream",
     "text": [
      "Analizado grafo 429575 coef_avg_clust: 0.600606\n",
      "Analizando grafo 429650\n"
     ]
    },
    {
     "name": "stderr",
     "output_type": "stream",
     "text": [
      " 22%|██▏       | 56/260 [06:47<16:38,  4.89s/it]"
     ]
    },
    {
     "name": "stdout",
     "output_type": "stream",
     "text": [
      "Analizado grafo 429650 coef_avg_clust: 0.60458\n",
      "Analizando grafo 429548\n"
     ]
    },
    {
     "name": "stderr",
     "output_type": "stream",
     "text": [
      " 22%|██▏       | 58/260 [06:55<13:47,  4.10s/it]"
     ]
    },
    {
     "name": "stdout",
     "output_type": "stream",
     "text": [
      "Analizado grafo 429548 coef_avg_clust: 0.599032\n",
      "Analizando grafo 429665\n",
      "Analizado grafo 429665 coef_avg_clust: 0.555814\n",
      "Analizando grafo 429641\n"
     ]
    },
    {
     "name": "stderr",
     "output_type": "stream",
     "text": [
      " 23%|██▎       | 59/260 [07:06<20:20,  6.07s/it]"
     ]
    },
    {
     "name": "stdout",
     "output_type": "stream",
     "text": [
      "Analizado grafo 429641 coef_avg_clust: 0.59431\n",
      "Analizando grafo 429672\n"
     ]
    },
    {
     "name": "stderr",
     "output_type": "stream",
     "text": [
      " 23%|██▎       | 60/260 [07:07<15:29,  4.65s/it]"
     ]
    },
    {
     "name": "stdout",
     "output_type": "stream",
     "text": [
      "Analizado grafo 429672 coef_avg_clust: 0.595441\n",
      "Analizando grafo 429580\n"
     ]
    },
    {
     "name": "stderr",
     "output_type": "stream",
     "text": [
      " 23%|██▎       | 61/260 [07:13<16:43,  5.04s/it]"
     ]
    },
    {
     "name": "stdout",
     "output_type": "stream",
     "text": [
      "Analizado grafo 429580 coef_avg_clust: 0.59831\n",
      "Analizando grafo 429624\n"
     ]
    },
    {
     "name": "stderr",
     "output_type": "stream",
     "text": [
      " 24%|██▍       | 62/260 [07:16<14:11,  4.30s/it]"
     ]
    },
    {
     "name": "stdout",
     "output_type": "stream",
     "text": [
      "Analizado grafo 429624 coef_avg_clust: 0.603644\n",
      "Analizando grafo 429670\n"
     ]
    },
    {
     "name": "stderr",
     "output_type": "stream",
     "text": [
      " 24%|██▍       | 63/260 [07:17<11:09,  3.40s/it]"
     ]
    },
    {
     "name": "stdout",
     "output_type": "stream",
     "text": [
      "Analizado grafo 429670 coef_avg_clust: 0.600547\n",
      "Analizando grafo 429766\n"
     ]
    },
    {
     "name": "stderr",
     "output_type": "stream",
     "text": [
      " 25%|██▍       | 64/260 [07:20<10:50,  3.32s/it]"
     ]
    },
    {
     "name": "stdout",
     "output_type": "stream",
     "text": [
      "Analizado grafo 429766 coef_avg_clust: 0.605871\n",
      "Analizando grafo 429599\n"
     ]
    },
    {
     "name": "stderr",
     "output_type": "stream",
     "text": [
      " 25%|██▌       | 65/260 [07:27<14:11,  4.36s/it]"
     ]
    },
    {
     "name": "stdout",
     "output_type": "stream",
     "text": [
      "Analizado grafo 429599 coef_avg_clust: 0.598671\n",
      "Analizando grafo 429636\n"
     ]
    },
    {
     "name": "stderr",
     "output_type": "stream",
     "text": [
      " 25%|██▌       | 66/260 [07:32<14:56,  4.62s/it]"
     ]
    },
    {
     "name": "stdout",
     "output_type": "stream",
     "text": [
      "Analizado grafo 429636 coef_avg_clust: 0.602727\n",
      "Analizando grafo 429776\n"
     ]
    },
    {
     "name": "stderr",
     "output_type": "stream",
     "text": [
      " 26%|██▌       | 67/260 [07:44<21:34,  6.71s/it]"
     ]
    },
    {
     "name": "stdout",
     "output_type": "stream",
     "text": [
      "Analizado grafo 429776 coef_avg_clust: 0.595739\n",
      "Analizando grafo 429706\n"
     ]
    },
    {
     "name": "stderr",
     "output_type": "stream",
     "text": [
      " 26%|██▌       | 68/260 [07:55<26:12,  8.19s/it]"
     ]
    },
    {
     "name": "stdout",
     "output_type": "stream",
     "text": [
      "Analizado grafo 429706 coef_avg_clust: 0.595134\n",
      "Analizando grafo 429681\n"
     ]
    },
    {
     "name": "stderr",
     "output_type": "stream",
     "text": [
      " 27%|██▋       | 69/260 [08:00<22:42,  7.13s/it]"
     ]
    },
    {
     "name": "stdout",
     "output_type": "stream",
     "text": [
      "Analizado grafo 429681 coef_avg_clust: 0.603574\n",
      "Analizando grafo 429687\n"
     ]
    },
    {
     "name": "stderr",
     "output_type": "stream",
     "text": [
      " 27%|██▋       | 70/260 [08:00<16:15,  5.13s/it]"
     ]
    },
    {
     "name": "stdout",
     "output_type": "stream",
     "text": [
      "Analizado grafo 429687 coef_avg_clust: 0.581094\n",
      "Analizando grafo 429630\n"
     ]
    },
    {
     "name": "stderr",
     "output_type": "stream",
     "text": [
      " 27%|██▋       | 71/260 [08:11<21:36,  6.86s/it]"
     ]
    },
    {
     "name": "stdout",
     "output_type": "stream",
     "text": [
      "Analizado grafo 429630 coef_avg_clust: 0.594658\n",
      "Analizando grafo 429611\n"
     ]
    },
    {
     "name": "stderr",
     "output_type": "stream",
     "text": [
      " 28%|██▊       | 72/260 [08:20<23:38,  7.54s/it]"
     ]
    },
    {
     "name": "stdout",
     "output_type": "stream",
     "text": [
      "Analizado grafo 429611 coef_avg_clust: 0.598394\n",
      "Analizando grafo 429655\n"
     ]
    },
    {
     "name": "stderr",
     "output_type": "stream",
     "text": [
      " 28%|██▊       | 73/260 [08:33<28:05,  9.01s/it]"
     ]
    },
    {
     "name": "stdout",
     "output_type": "stream",
     "text": [
      "Analizado grafo 429655 coef_avg_clust: 0.595865\n",
      "Analizando grafo 429610\n"
     ]
    },
    {
     "name": "stderr",
     "output_type": "stream",
     "text": [
      " 28%|██▊       | 74/260 [08:37<23:35,  7.61s/it]"
     ]
    },
    {
     "name": "stdout",
     "output_type": "stream",
     "text": [
      "Analizado grafo 429610 coef_avg_clust: 0.604161\n",
      "Analizando grafo 429680\n"
     ]
    },
    {
     "name": "stderr",
     "output_type": "stream",
     "text": [
      " 29%|██▉       | 75/260 [08:49<27:01,  8.77s/it]"
     ]
    },
    {
     "name": "stdout",
     "output_type": "stream",
     "text": [
      "Analizado grafo 429680 coef_avg_clust: 0.59447\n",
      "Analizando grafo 429773\n"
     ]
    },
    {
     "name": "stderr",
     "output_type": "stream",
     "text": [
      " 29%|██▉       | 76/260 [08:56<25:22,  8.27s/it]"
     ]
    },
    {
     "name": "stdout",
     "output_type": "stream",
     "text": [
      "Analizado grafo 429773 coef_avg_clust: 0.59899\n",
      "Analizando grafo 429763\n"
     ]
    },
    {
     "name": "stderr",
     "output_type": "stream",
     "text": [
      " 30%|██▉       | 77/260 [09:05<25:44,  8.44s/it]"
     ]
    },
    {
     "name": "stdout",
     "output_type": "stream",
     "text": [
      "Analizado grafo 429763 coef_avg_clust: 0.598293\n",
      "Analizando grafo 429696\n"
     ]
    },
    {
     "name": "stderr",
     "output_type": "stream",
     "text": [
      " 30%|███       | 78/260 [09:06<19:36,  6.46s/it]"
     ]
    },
    {
     "name": "stdout",
     "output_type": "stream",
     "text": [
      "Analizado grafo 429696 coef_avg_clust: 0.599931\n",
      "Analizando grafo 429761\n"
     ]
    },
    {
     "name": "stderr",
     "output_type": "stream",
     "text": [
      " 30%|███       | 79/260 [09:12<18:21,  6.09s/it]"
     ]
    },
    {
     "name": "stdout",
     "output_type": "stream",
     "text": [
      "Analizado grafo 429761 coef_avg_clust: 0.601662\n",
      "Analizando grafo 429541\n"
     ]
    },
    {
     "name": "stderr",
     "output_type": "stream",
     "text": [
      " 31%|███       | 80/260 [09:19<19:45,  6.59s/it]"
     ]
    },
    {
     "name": "stdout",
     "output_type": "stream",
     "text": [
      "Analizado grafo 429541 coef_avg_clust: 0.598054\n",
      "Analizando grafo 429560\n"
     ]
    },
    {
     "name": "stderr",
     "output_type": "stream",
     "text": [
      " 31%|███       | 81/260 [09:30<22:55,  7.69s/it]"
     ]
    },
    {
     "name": "stdout",
     "output_type": "stream",
     "text": [
      "Analizado grafo 429560 coef_avg_clust: 0.594982\n",
      "Analizando grafo 429571\n"
     ]
    },
    {
     "name": "stderr",
     "output_type": "stream",
     "text": [
      " 32%|███▏      | 82/260 [09:36<21:21,  7.20s/it]"
     ]
    },
    {
     "name": "stdout",
     "output_type": "stream",
     "text": [
      "Analizado grafo 429571 coef_avg_clust: 0.598611\n",
      "Analizando grafo 429780\n"
     ]
    },
    {
     "name": "stderr",
     "output_type": "stream",
     "text": [
      " 32%|███▏      | 83/260 [09:44<21:57,  7.44s/it]"
     ]
    },
    {
     "name": "stdout",
     "output_type": "stream",
     "text": [
      "Analizado grafo 429780 coef_avg_clust: 0.598417\n",
      "Analizando grafo 429789\n"
     ]
    },
    {
     "name": "stderr",
     "output_type": "stream",
     "text": [
      " 32%|███▏      | 84/260 [09:53<23:08,  7.89s/it]"
     ]
    },
    {
     "name": "stdout",
     "output_type": "stream",
     "text": [
      "Analizado grafo 429789 coef_avg_clust: 0.595518\n",
      "Analizando grafo 429675\n"
     ]
    },
    {
     "name": "stderr",
     "output_type": "stream",
     "text": [
      " 33%|███▎      | 85/260 [09:56<18:53,  6.48s/it]"
     ]
    },
    {
     "name": "stdout",
     "output_type": "stream",
     "text": [
      "Analizado grafo 429675 coef_avg_clust: 0.606013\n",
      "Analizando grafo 429602\n"
     ]
    },
    {
     "name": "stderr",
     "output_type": "stream",
     "text": [
      " 33%|███▎      | 86/260 [10:03<19:09,  6.61s/it]"
     ]
    },
    {
     "name": "stdout",
     "output_type": "stream",
     "text": [
      "Analizado grafo 429602 coef_avg_clust: 0.601007\n",
      "Analizando grafo 429723\n"
     ]
    },
    {
     "name": "stderr",
     "output_type": "stream",
     "text": [
      " 33%|███▎      | 87/260 [10:09<18:48,  6.52s/it]"
     ]
    },
    {
     "name": "stdout",
     "output_type": "stream",
     "text": [
      "Analizado grafo 429723 coef_avg_clust: 0.598671\n",
      "Analizando grafo 429722\n"
     ]
    },
    {
     "name": "stderr",
     "output_type": "stream",
     "text": [
      " 34%|███▍      | 88/260 [10:13<16:32,  5.77s/it]"
     ]
    },
    {
     "name": "stdout",
     "output_type": "stream",
     "text": [
      "Analizado grafo 429722 coef_avg_clust: 0.606162\n",
      "Analizando grafo 429765\n"
     ]
    },
    {
     "name": "stderr",
     "output_type": "stream",
     "text": [
      " 34%|███▍      | 89/260 [10:21<17:56,  6.29s/it]"
     ]
    },
    {
     "name": "stdout",
     "output_type": "stream",
     "text": [
      "Analizado grafo 429765 coef_avg_clust: 0.599184\n",
      "Analizando grafo 429542\n"
     ]
    },
    {
     "name": "stderr",
     "output_type": "stream",
     "text": [
      " 35%|███▍      | 90/260 [10:29<19:41,  6.95s/it]"
     ]
    },
    {
     "name": "stdout",
     "output_type": "stream",
     "text": [
      "Analizado grafo 429542 coef_avg_clust: 0.596892\n",
      "Analizando grafo 429612\n"
     ]
    },
    {
     "name": "stderr",
     "output_type": "stream",
     "text": [
      " 35%|███▌      | 91/260 [10:30<14:20,  5.09s/it]"
     ]
    },
    {
     "name": "stdout",
     "output_type": "stream",
     "text": [
      "Analizado grafo 429612 coef_avg_clust: 0.594284\n",
      "Analizando grafo 429735\n"
     ]
    },
    {
     "name": "stderr",
     "output_type": "stream",
     "text": [
      " 35%|███▌      | 92/260 [10:30<10:23,  3.71s/it]"
     ]
    },
    {
     "name": "stdout",
     "output_type": "stream",
     "text": [
      "Analizado grafo 429735 coef_avg_clust: 0.568577\n",
      "Analizando grafo 429654\n"
     ]
    },
    {
     "name": "stderr",
     "output_type": "stream",
     "text": [
      " 36%|███▌      | 93/260 [10:40<15:02,  5.41s/it]"
     ]
    },
    {
     "name": "stdout",
     "output_type": "stream",
     "text": [
      "Analizado grafo 429654 coef_avg_clust: 0.594388\n",
      "Analizando grafo 429557\n"
     ]
    },
    {
     "name": "stderr",
     "output_type": "stream",
     "text": [
      " 36%|███▌      | 94/260 [10:50<18:52,  6.82s/it]"
     ]
    },
    {
     "name": "stdout",
     "output_type": "stream",
     "text": [
      "Analizado grafo 429557 coef_avg_clust: 0.59515\n",
      "Analizando grafo 429661\n"
     ]
    },
    {
     "name": "stderr",
     "output_type": "stream",
     "text": [
      " 37%|███▋      | 95/260 [11:00<21:09,  7.69s/it]"
     ]
    },
    {
     "name": "stdout",
     "output_type": "stream",
     "text": [
      "Analizado grafo 429661 coef_avg_clust: 0.594687\n",
      "Analizando grafo 429613\n"
     ]
    },
    {
     "name": "stderr",
     "output_type": "stream",
     "text": [
      " 37%|███▋      | 96/260 [11:02<17:04,  6.25s/it]"
     ]
    },
    {
     "name": "stdout",
     "output_type": "stream",
     "text": [
      "Analizado grafo 429613 coef_avg_clust: 0.606851\n",
      "Analizando grafo 429536\n"
     ]
    },
    {
     "name": "stderr",
     "output_type": "stream",
     "text": [
      " 37%|███▋      | 97/260 [11:13<20:09,  7.42s/it]"
     ]
    },
    {
     "name": "stdout",
     "output_type": "stream",
     "text": [
      "Analizado grafo 429536 coef_avg_clust: 0.596055\n",
      "Analizando grafo 429782\n"
     ]
    },
    {
     "name": "stderr",
     "output_type": "stream",
     "text": [
      " 38%|███▊      | 98/260 [11:16<16:52,  6.25s/it]"
     ]
    },
    {
     "name": "stdout",
     "output_type": "stream",
     "text": [
      "Analizado grafo 429782 coef_avg_clust: 0.606051\n",
      "Analizando grafo 429710\n"
     ]
    },
    {
     "name": "stderr",
     "output_type": "stream",
     "text": [
      " 38%|███▊      | 99/260 [11:19<13:45,  5.13s/it]"
     ]
    },
    {
     "name": "stdout",
     "output_type": "stream",
     "text": [
      "Analizado grafo 429710 coef_avg_clust: 0.603309\n",
      "Analizando grafo 429634\n"
     ]
    },
    {
     "name": "stderr",
     "output_type": "stream",
     "text": [
      " 38%|███▊      | 100/260 [11:20<10:22,  3.89s/it]"
     ]
    },
    {
     "name": "stdout",
     "output_type": "stream",
     "text": [
      "Analizado grafo 429634 coef_avg_clust: 0.592863\n",
      "Analizando grafo 429787\n"
     ]
    },
    {
     "name": "stderr",
     "output_type": "stream",
     "text": [
      " 39%|███▉      | 101/260 [11:24<10:42,  4.04s/it]"
     ]
    },
    {
     "name": "stdout",
     "output_type": "stream",
     "text": [
      "Analizado grafo 429787 coef_avg_clust: 0.604512\n",
      "Analizando grafo 429617\n"
     ]
    },
    {
     "name": "stderr",
     "output_type": "stream",
     "text": [
      " 39%|███▉      | 102/260 [11:31<12:50,  4.87s/it]"
     ]
    },
    {
     "name": "stdout",
     "output_type": "stream",
     "text": [
      "Analizado grafo 429617 coef_avg_clust: 0.599492\n",
      "Analizando grafo 429692\n"
     ]
    },
    {
     "name": "stderr",
     "output_type": "stream",
     "text": [
      " 40%|███▉      | 103/260 [11:37<14:05,  5.39s/it]"
     ]
    },
    {
     "name": "stdout",
     "output_type": "stream",
     "text": [
      "Analizado grafo 429692 coef_avg_clust: 0.600581\n",
      "Analizando grafo 429589\n"
     ]
    },
    {
     "name": "stderr",
     "output_type": "stream",
     "text": [
      " 40%|████      | 104/260 [11:44<15:04,  5.80s/it]"
     ]
    },
    {
     "name": "stdout",
     "output_type": "stream",
     "text": [
      "Analizado grafo 429589 coef_avg_clust: 0.59869\n",
      "Analizando grafo 429574\n"
     ]
    },
    {
     "name": "stderr",
     "output_type": "stream",
     "text": [
      " 40%|████      | 105/260 [11:53<17:08,  6.63s/it]"
     ]
    },
    {
     "name": "stdout",
     "output_type": "stream",
     "text": [
      "Analizado grafo 429574 coef_avg_clust: 0.595672\n",
      "Analizando grafo 429632\n"
     ]
    },
    {
     "name": "stderr",
     "output_type": "stream",
     "text": [
      " 41%|████      | 106/260 [12:02<19:22,  7.55s/it]"
     ]
    },
    {
     "name": "stdout",
     "output_type": "stream",
     "text": [
      "Analizado grafo 429632 coef_avg_clust: 0.595095\n",
      "Analizando grafo 429759\n"
     ]
    },
    {
     "name": "stderr",
     "output_type": "stream",
     "text": [
      " 41%|████      | 107/260 [12:03<13:43,  5.38s/it]"
     ]
    },
    {
     "name": "stdout",
     "output_type": "stream",
     "text": [
      "Analizado grafo 429759 coef_avg_clust: 0.566718\n",
      "Analizando grafo 429635\n"
     ]
    },
    {
     "name": "stderr",
     "output_type": "stream",
     "text": [
      " 42%|████▏     | 108/260 [12:04<10:22,  4.10s/it]"
     ]
    },
    {
     "name": "stdout",
     "output_type": "stream",
     "text": [
      "Analizado grafo 429635 coef_avg_clust: 0.600157\n",
      "Analizando grafo 429659\n"
     ]
    },
    {
     "name": "stderr",
     "output_type": "stream",
     "text": [
      " 42%|████▏     | 109/260 [12:11<12:30,  4.97s/it]"
     ]
    },
    {
     "name": "stdout",
     "output_type": "stream",
     "text": [
      "Analizado grafo 429659 coef_avg_clust: 0.598428\n",
      "Analizando grafo 429621\n"
     ]
    },
    {
     "name": "stderr",
     "output_type": "stream",
     "text": [
      " 42%|████▏     | 110/260 [12:13<10:39,  4.27s/it]"
     ]
    },
    {
     "name": "stdout",
     "output_type": "stream",
     "text": [
      "Analizado grafo 429621 coef_avg_clust: 0.601106\n",
      "Analizando grafo 429747\n"
     ]
    },
    {
     "name": "stderr",
     "output_type": "stream",
     "text": [
      " 43%|████▎     | 111/260 [12:21<13:02,  5.25s/it]"
     ]
    },
    {
     "name": "stdout",
     "output_type": "stream",
     "text": [
      "Analizado grafo 429747 coef_avg_clust: 0.598819\n",
      "Analizando grafo 429717\n"
     ]
    },
    {
     "name": "stderr",
     "output_type": "stream",
     "text": [
      " 43%|████▎     | 112/260 [12:25<12:12,  4.95s/it]"
     ]
    },
    {
     "name": "stdout",
     "output_type": "stream",
     "text": [
      "Analizado grafo 429717 coef_avg_clust: 0.603384\n",
      "Analizando grafo 429686\n"
     ]
    },
    {
     "name": "stderr",
     "output_type": "stream",
     "text": [
      " 43%|████▎     | 113/260 [12:27<09:31,  3.89s/it]"
     ]
    },
    {
     "name": "stdout",
     "output_type": "stream",
     "text": [
      "Analizado grafo 429686 coef_avg_clust: 0.603037\n",
      "Analizando grafo 429688\n"
     ]
    },
    {
     "name": "stderr",
     "output_type": "stream",
     "text": [
      " 44%|████▍     | 114/260 [12:32<10:15,  4.21s/it]"
     ]
    },
    {
     "name": "stdout",
     "output_type": "stream",
     "text": [
      "Analizado grafo 429688 coef_avg_clust: 0.601211\n",
      "Analizando grafo 429581\n"
     ]
    },
    {
     "name": "stderr",
     "output_type": "stream",
     "text": [
      " 44%|████▍     | 115/260 [12:42<14:27,  5.99s/it]"
     ]
    },
    {
     "name": "stdout",
     "output_type": "stream",
     "text": [
      "Analizado grafo 429581 coef_avg_clust: 0.595764\n",
      "Analizando grafo 429694\n"
     ]
    },
    {
     "name": "stderr",
     "output_type": "stream",
     "text": [
      " 45%|████▍     | 116/260 [12:50<15:42,  6.54s/it]"
     ]
    },
    {
     "name": "stdout",
     "output_type": "stream",
     "text": [
      "Analizado grafo 429694 coef_avg_clust: 0.598406\n",
      "Analizando grafo 429781\n"
     ]
    },
    {
     "name": "stderr",
     "output_type": "stream",
     "text": [
      " 45%|████▌     | 117/260 [12:50<11:20,  4.76s/it]"
     ]
    },
    {
     "name": "stdout",
     "output_type": "stream",
     "text": [
      "Analizado grafo 429781 coef_avg_clust: 0.593475\n",
      "Analizando grafo 429690\n"
     ]
    },
    {
     "name": "stderr",
     "output_type": "stream",
     "text": [
      " 45%|████▌     | 118/260 [12:54<10:36,  4.48s/it]"
     ]
    },
    {
     "name": "stdout",
     "output_type": "stream",
     "text": [
      "Analizado grafo 429690 coef_avg_clust: 0.605989\n",
      "Analizando grafo 429540\n"
     ]
    },
    {
     "name": "stderr",
     "output_type": "stream",
     "text": [
      " 46%|████▌     | 119/260 [12:59<10:54,  4.64s/it]"
     ]
    },
    {
     "name": "stdout",
     "output_type": "stream",
     "text": [
      "Analizado grafo 429540 coef_avg_clust: 0.601207\n",
      "Analizando grafo 429731\n"
     ]
    },
    {
     "name": "stderr",
     "output_type": "stream",
     "text": [
      " 46%|████▌     | 120/260 [13:06<12:42,  5.45s/it]"
     ]
    },
    {
     "name": "stdout",
     "output_type": "stream",
     "text": [
      "Analizado grafo 429731 coef_avg_clust: 0.599365\n",
      "Analizando grafo 429674\n"
     ]
    },
    {
     "name": "stderr",
     "output_type": "stream",
     "text": [
      " 47%|████▋     | 121/260 [13:10<10:59,  4.74s/it]"
     ]
    },
    {
     "name": "stdout",
     "output_type": "stream",
     "text": [
      "Analizado grafo 429674 coef_avg_clust: 0.608319\n",
      "Analizando grafo 429718\n"
     ]
    },
    {
     "name": "stderr",
     "output_type": "stream",
     "text": [
      " 47%|████▋     | 122/260 [13:15<11:23,  4.95s/it]"
     ]
    },
    {
     "name": "stdout",
     "output_type": "stream",
     "text": [
      "Analizado grafo 429718 coef_avg_clust: 0.59834\n",
      "Analizando grafo 429715\n"
     ]
    },
    {
     "name": "stderr",
     "output_type": "stream",
     "text": [
      " 47%|████▋     | 123/260 [13:18<09:46,  4.28s/it]"
     ]
    },
    {
     "name": "stdout",
     "output_type": "stream",
     "text": [
      "Analizado grafo 429715 coef_avg_clust: 0.605683\n",
      "Analizando grafo 429767\n"
     ]
    },
    {
     "name": "stderr",
     "output_type": "stream",
     "text": [
      " 48%|████▊     | 124/260 [13:19<08:01,  3.54s/it]"
     ]
    },
    {
     "name": "stdout",
     "output_type": "stream",
     "text": [
      "Analizado grafo 429767 coef_avg_clust: 0.600849\n",
      "Analizando grafo 429689\n"
     ]
    },
    {
     "name": "stderr",
     "output_type": "stream",
     "text": [
      " 48%|████▊     | 125/260 [13:24<08:53,  3.96s/it]"
     ]
    },
    {
     "name": "stdout",
     "output_type": "stream",
     "text": [
      "Analizado grafo 429689 coef_avg_clust: 0.602227\n",
      "Analizando grafo 429656\n"
     ]
    },
    {
     "name": "stderr",
     "output_type": "stream",
     "text": [
      " 48%|████▊     | 126/260 [13:32<11:32,  5.17s/it]"
     ]
    },
    {
     "name": "stdout",
     "output_type": "stream",
     "text": [
      "Analizado grafo 429656 coef_avg_clust: 0.597513\n",
      "Analizando grafo 429648\n"
     ]
    },
    {
     "name": "stderr",
     "output_type": "stream",
     "text": [
      " 49%|████▉     | 127/260 [13:42<14:16,  6.44s/it]"
     ]
    },
    {
     "name": "stdout",
     "output_type": "stream",
     "text": [
      "Analizado grafo 429648 coef_avg_clust: 0.594868\n",
      "Analizando grafo 429639\n"
     ]
    },
    {
     "name": "stderr",
     "output_type": "stream",
     "text": [
      " 49%|████▉     | 128/260 [13:42<10:04,  4.58s/it]"
     ]
    },
    {
     "name": "stdout",
     "output_type": "stream",
     "text": [
      "Analizado grafo 429639 coef_avg_clust: 0.558796\n",
      "Analizando grafo 429573\n"
     ]
    },
    {
     "name": "stderr",
     "output_type": "stream",
     "text": [
      " 50%|████▉     | 129/260 [13:50<12:29,  5.72s/it]"
     ]
    },
    {
     "name": "stdout",
     "output_type": "stream",
     "text": [
      "Analizado grafo 429573 coef_avg_clust: 0.594786\n",
      "Analizando grafo 429539\n"
     ]
    },
    {
     "name": "stderr",
     "output_type": "stream",
     "text": [
      " 50%|█████     | 130/260 [14:01<15:44,  7.26s/it]"
     ]
    },
    {
     "name": "stdout",
     "output_type": "stream",
     "text": [
      "Analizado grafo 429539 coef_avg_clust: 0.595703\n",
      "Analizando grafo 429616\n"
     ]
    },
    {
     "name": "stderr",
     "output_type": "stream",
     "text": [
      " 50%|█████     | 131/260 [14:09<15:41,  7.30s/it]"
     ]
    },
    {
     "name": "stdout",
     "output_type": "stream",
     "text": [
      "Analizado grafo 429616 coef_avg_clust: 0.597843\n",
      "Analizando grafo 429603\n"
     ]
    },
    {
     "name": "stderr",
     "output_type": "stream",
     "text": [
      " 51%|█████     | 132/260 [14:18<16:50,  7.90s/it]"
     ]
    },
    {
     "name": "stdout",
     "output_type": "stream",
     "text": [
      "Analizado grafo 429603 coef_avg_clust: 0.594573\n",
      "Analizando grafo 429719\n"
     ]
    },
    {
     "name": "stderr",
     "output_type": "stream",
     "text": [
      " 51%|█████     | 133/260 [14:26<16:36,  7.85s/it]"
     ]
    },
    {
     "name": "stdout",
     "output_type": "stream",
     "text": [
      "Analizado grafo 429719 coef_avg_clust: 0.597292\n",
      "Analizando grafo 429561\n"
     ]
    },
    {
     "name": "stderr",
     "output_type": "stream",
     "text": [
      " 52%|█████▏    | 134/260 [14:34<16:27,  7.84s/it]"
     ]
    },
    {
     "name": "stdout",
     "output_type": "stream",
     "text": [
      "Analizado grafo 429561 coef_avg_clust: 0.598822\n",
      "Analizando grafo 429756\n"
     ]
    },
    {
     "name": "stderr",
     "output_type": "stream",
     "text": [
      " 52%|█████▏    | 135/260 [14:38<14:01,  6.73s/it]"
     ]
    },
    {
     "name": "stdout",
     "output_type": "stream",
     "text": [
      "Analizado grafo 429756 coef_avg_clust: 0.605513\n",
      "Analizando grafo 429592\n"
     ]
    },
    {
     "name": "stderr",
     "output_type": "stream",
     "text": [
      " 52%|█████▏    | 136/260 [14:39<10:19,  5.00s/it]"
     ]
    },
    {
     "name": "stdout",
     "output_type": "stream",
     "text": [
      "Analizado grafo 429592 coef_avg_clust: 0.597749\n",
      "Analizando grafo 429679\n"
     ]
    },
    {
     "name": "stderr",
     "output_type": "stream",
     "text": [
      " 53%|█████▎    | 137/260 [14:48<12:38,  6.17s/it]"
     ]
    },
    {
     "name": "stdout",
     "output_type": "stream",
     "text": [
      "Analizado grafo 429679 coef_avg_clust: 0.594478\n",
      "Analizando grafo 429556\n"
     ]
    },
    {
     "name": "stderr",
     "output_type": "stream",
     "text": [
      " 53%|█████▎    | 138/260 [14:57<14:16,  7.02s/it]"
     ]
    },
    {
     "name": "stdout",
     "output_type": "stream",
     "text": [
      "Analizado grafo 429556 coef_avg_clust: 0.594271\n",
      "Analizando grafo 429753\n"
     ]
    },
    {
     "name": "stderr",
     "output_type": "stream",
     "text": [
      " 53%|█████▎    | 139/260 [15:01<12:30,  6.20s/it]"
     ]
    },
    {
     "name": "stdout",
     "output_type": "stream",
     "text": [
      "Analizado grafo 429753 coef_avg_clust: 0.604268\n",
      "Analizando grafo 429615\n"
     ]
    },
    {
     "name": "stderr",
     "output_type": "stream",
     "text": [
      " 54%|█████▍    | 140/260 [15:01<09:02,  4.52s/it]"
     ]
    },
    {
     "name": "stdout",
     "output_type": "stream",
     "text": [
      "Analizado grafo 429615 coef_avg_clust: 0.576382\n",
      "Analizando grafo 429760\n"
     ]
    },
    {
     "name": "stderr",
     "output_type": "stream",
     "text": [
      " 54%|█████▍    | 141/260 [15:06<08:55,  4.50s/it]"
     ]
    },
    {
     "name": "stdout",
     "output_type": "stream",
     "text": [
      "Analizado grafo 429760 coef_avg_clust: 0.601683\n",
      "Analizando grafo 429607\n"
     ]
    },
    {
     "name": "stderr",
     "output_type": "stream",
     "text": [
      " 55%|█████▍    | 142/260 [15:16<12:07,  6.17s/it]"
     ]
    },
    {
     "name": "stdout",
     "output_type": "stream",
     "text": [
      "Analizado grafo 429607 coef_avg_clust: 0.595977\n",
      "Analizando grafo 429642\n"
     ]
    },
    {
     "name": "stderr",
     "output_type": "stream",
     "text": [
      " 55%|█████▌    | 144/260 [15:17<06:20,  3.28s/it]"
     ]
    },
    {
     "name": "stdout",
     "output_type": "stream",
     "text": [
      "Analizado grafo 429642 coef_avg_clust: 0.596288\n",
      "Analizando grafo 429591\n",
      "Analizado grafo 429591 coef_avg_clust: 0.557503\n",
      "Analizando grafo 429554\n"
     ]
    },
    {
     "name": "stderr",
     "output_type": "stream",
     "text": [
      " 56%|█████▌    | 145/260 [15:27<09:56,  5.18s/it]"
     ]
    },
    {
     "name": "stdout",
     "output_type": "stream",
     "text": [
      "Analizado grafo 429554 coef_avg_clust: 0.595486\n",
      "Analizando grafo 429705\n"
     ]
    },
    {
     "name": "stderr",
     "output_type": "stream",
     "text": [
      " 56%|█████▌    | 146/260 [15:36<12:26,  6.55s/it]"
     ]
    },
    {
     "name": "stdout",
     "output_type": "stream",
     "text": [
      "Analizado grafo 429705 coef_avg_clust: 0.594676\n",
      "Analizando grafo 429748\n"
     ]
    },
    {
     "name": "stderr",
     "output_type": "stream",
     "text": [
      " 57%|█████▋    | 147/260 [15:43<12:31,  6.65s/it]"
     ]
    },
    {
     "name": "stdout",
     "output_type": "stream",
     "text": [
      "Analizado grafo 429748 coef_avg_clust: 0.600643\n",
      "Analizando grafo 429677\n"
     ]
    },
    {
     "name": "stderr",
     "output_type": "stream",
     "text": [
      " 57%|█████▋    | 148/260 [15:51<12:51,  6.89s/it]"
     ]
    },
    {
     "name": "stdout",
     "output_type": "stream",
     "text": [
      "Analizado grafo 429677 coef_avg_clust: 0.598274\n",
      "Analizando grafo 429586\n"
     ]
    },
    {
     "name": "stderr",
     "output_type": "stream",
     "text": [
      " 57%|█████▋    | 149/260 [15:58<12:49,  6.94s/it]"
     ]
    },
    {
     "name": "stdout",
     "output_type": "stream",
     "text": [
      "Analizado grafo 429586 coef_avg_clust: 0.59909\n",
      "Analizando grafo 429699\n"
     ]
    },
    {
     "name": "stderr",
     "output_type": "stream",
     "text": [
      " 58%|█████▊    | 150/260 [16:03<11:51,  6.47s/it]"
     ]
    },
    {
     "name": "stdout",
     "output_type": "stream",
     "text": [
      "Analizado grafo 429699 coef_avg_clust: 0.59813\n",
      "Analizando grafo 429779\n"
     ]
    },
    {
     "name": "stderr",
     "output_type": "stream",
     "text": [
      " 58%|█████▊    | 151/260 [16:13<13:25,  7.39s/it]"
     ]
    },
    {
     "name": "stdout",
     "output_type": "stream",
     "text": [
      "Analizado grafo 429779 coef_avg_clust: 0.594455\n",
      "Analizando grafo 429547\n"
     ]
    },
    {
     "name": "stderr",
     "output_type": "stream",
     "text": [
      " 58%|█████▊    | 152/260 [16:22<14:03,  7.81s/it]"
     ]
    },
    {
     "name": "stdout",
     "output_type": "stream",
     "text": [
      "Analizado grafo 429547 coef_avg_clust: 0.595048\n",
      "Analizando grafo 429708\n"
     ]
    },
    {
     "name": "stderr",
     "output_type": "stream",
     "text": [
      " 59%|█████▉    | 153/260 [16:24<11:01,  6.18s/it]"
     ]
    },
    {
     "name": "stdout",
     "output_type": "stream",
     "text": [
      "Analizado grafo 429708 coef_avg_clust: 0.600639\n",
      "Analizando grafo 429596\n"
     ]
    },
    {
     "name": "stderr",
     "output_type": "stream",
     "text": [
      " 59%|█████▉    | 154/260 [16:25<08:01,  4.54s/it]"
     ]
    },
    {
     "name": "stdout",
     "output_type": "stream",
     "text": [
      "Analizado grafo 429596 coef_avg_clust: 0.598541\n",
      "Analizando grafo 429720\n"
     ]
    },
    {
     "name": "stderr",
     "output_type": "stream",
     "text": [
      " 60%|█████▉    | 155/260 [16:33<09:51,  5.64s/it]"
     ]
    },
    {
     "name": "stdout",
     "output_type": "stream",
     "text": [
      "Analizado grafo 429720 coef_avg_clust: 0.596716\n",
      "Analizando grafo 429565\n"
     ]
    },
    {
     "name": "stderr",
     "output_type": "stream",
     "text": [
      " 60%|██████    | 156/260 [16:40<10:40,  6.15s/it]"
     ]
    },
    {
     "name": "stdout",
     "output_type": "stream",
     "text": [
      "Analizado grafo 429565 coef_avg_clust: 0.598738\n",
      "Analizando grafo 429619\n"
     ]
    },
    {
     "name": "stderr",
     "output_type": "stream",
     "text": [
      " 60%|██████    | 157/260 [16:42<08:32,  4.98s/it]"
     ]
    },
    {
     "name": "stdout",
     "output_type": "stream",
     "text": [
      "Analizado grafo 429619 coef_avg_clust: 0.60388\n",
      "Analizando grafo 429702\n"
     ]
    },
    {
     "name": "stderr",
     "output_type": "stream",
     "text": [
      " 61%|██████    | 158/260 [16:52<10:48,  6.36s/it]"
     ]
    },
    {
     "name": "stdout",
     "output_type": "stream",
     "text": [
      "Analizado grafo 429702 coef_avg_clust: 0.594519\n",
      "Analizando grafo 429533\n"
     ]
    },
    {
     "name": "stderr",
     "output_type": "stream",
     "text": [
      " 61%|██████    | 159/260 [17:02<12:21,  7.34s/it]"
     ]
    },
    {
     "name": "stdout",
     "output_type": "stream",
     "text": [
      "Analizado grafo 429533 coef_avg_clust: 0.594599\n",
      "Analizando grafo 429676\n"
     ]
    },
    {
     "name": "stderr",
     "output_type": "stream",
     "text": [
      " 62%|██████▏   | 160/260 [17:09<12:27,  7.47s/it]"
     ]
    },
    {
     "name": "stdout",
     "output_type": "stream",
     "text": [
      "Analizado grafo 429676 coef_avg_clust: 0.598168\n",
      "Analizando grafo 429663\n"
     ]
    },
    {
     "name": "stderr",
     "output_type": "stream",
     "text": [
      " 62%|██████▏   | 161/260 [17:10<08:45,  5.30s/it]"
     ]
    },
    {
     "name": "stdout",
     "output_type": "stream",
     "text": [
      "Analizado grafo 429663 coef_avg_clust: 0.54669\n",
      "Analizando grafo 429551\n"
     ]
    },
    {
     "name": "stderr",
     "output_type": "stream",
     "text": [
      " 62%|██████▏   | 162/260 [17:19<10:33,  6.47s/it]"
     ]
    },
    {
     "name": "stdout",
     "output_type": "stream",
     "text": [
      "Analizado grafo 429551 coef_avg_clust: 0.594503\n",
      "Analizando grafo 429645\n"
     ]
    },
    {
     "name": "stderr",
     "output_type": "stream",
     "text": [
      " 63%|██████▎   | 163/260 [17:24<09:54,  6.13s/it]"
     ]
    },
    {
     "name": "stdout",
     "output_type": "stream",
     "text": [
      "Analizado grafo 429645 coef_avg_clust: 0.600486\n",
      "Analizando grafo 429733\n"
     ]
    },
    {
     "name": "stderr",
     "output_type": "stream",
     "text": [
      " 63%|██████▎   | 164/260 [17:27<08:15,  5.17s/it]"
     ]
    },
    {
     "name": "stdout",
     "output_type": "stream",
     "text": [
      "Analizado grafo 429733 coef_avg_clust: 0.603889\n",
      "Analizando grafo 429709\n"
     ]
    },
    {
     "name": "stderr",
     "output_type": "stream",
     "text": [
      " 63%|██████▎   | 165/260 [17:34<09:06,  5.76s/it]"
     ]
    },
    {
     "name": "stdout",
     "output_type": "stream",
     "text": [
      "Analizado grafo 429709 coef_avg_clust: 0.59816\n",
      "Analizando grafo 429783\n"
     ]
    },
    {
     "name": "stderr",
     "output_type": "stream",
     "text": [
      " 64%|██████▍   | 166/260 [17:35<06:33,  4.18s/it]"
     ]
    },
    {
     "name": "stdout",
     "output_type": "stream",
     "text": [
      "Analizado grafo 429783 coef_avg_clust: 0.591234\n",
      "Analizando grafo 429716\n"
     ]
    },
    {
     "name": "stderr",
     "output_type": "stream",
     "text": [
      " 64%|██████▍   | 167/260 [17:40<07:05,  4.57s/it]"
     ]
    },
    {
     "name": "stdout",
     "output_type": "stream",
     "text": [
      "Analizado grafo 429716 coef_avg_clust: 0.598496\n",
      "Analizando grafo 429737\n"
     ]
    },
    {
     "name": "stderr",
     "output_type": "stream",
     "text": [
      " 65%|██████▍   | 168/260 [17:46<07:44,  5.04s/it]"
     ]
    },
    {
     "name": "stdout",
     "output_type": "stream",
     "text": [
      "Analizado grafo 429737 coef_avg_clust: 0.598822\n",
      "Analizando grafo 429531\n"
     ]
    },
    {
     "name": "stderr",
     "output_type": "stream",
     "text": [
      " 65%|██████▌   | 169/260 [17:51<07:18,  4.82s/it]"
     ]
    },
    {
     "name": "stdout",
     "output_type": "stream",
     "text": [
      "Analizado grafo 429531 coef_avg_clust: 0.60428\n",
      "Analizando grafo 429785\n"
     ]
    },
    {
     "name": "stderr",
     "output_type": "stream",
     "text": [
      " 65%|██████▌   | 170/260 [17:57<08:05,  5.40s/it]"
     ]
    },
    {
     "name": "stdout",
     "output_type": "stream",
     "text": [
      "Analizado grafo 429785 coef_avg_clust: 0.600504\n",
      "Analizando grafo 429740\n"
     ]
    },
    {
     "name": "stderr",
     "output_type": "stream",
     "text": [
      " 66%|██████▌   | 171/260 [18:06<09:25,  6.36s/it]"
     ]
    },
    {
     "name": "stdout",
     "output_type": "stream",
     "text": [
      "Analizado grafo 429740 coef_avg_clust: 0.596578\n",
      "Analizando grafo 429671\n"
     ]
    },
    {
     "name": "stderr",
     "output_type": "stream",
     "text": [
      " 66%|██████▌   | 172/260 [18:07<06:51,  4.68s/it]"
     ]
    },
    {
     "name": "stdout",
     "output_type": "stream",
     "text": [
      "Analizado grafo 429671 coef_avg_clust: 0.591378\n",
      "Analizando grafo 429691\n"
     ]
    },
    {
     "name": "stderr",
     "output_type": "stream",
     "text": [
      " 67%|██████▋   | 173/260 [18:13<07:35,  5.23s/it]"
     ]
    },
    {
     "name": "stdout",
     "output_type": "stream",
     "text": [
      "Analizado grafo 429691 coef_avg_clust: 0.599864\n",
      "Analizando grafo 429736\n"
     ]
    },
    {
     "name": "stderr",
     "output_type": "stream",
     "text": [
      " 67%|██████▋   | 174/260 [18:18<07:10,  5.00s/it]"
     ]
    },
    {
     "name": "stdout",
     "output_type": "stream",
     "text": [
      "Analizado grafo 429736 coef_avg_clust: 0.601973\n",
      "Analizando grafo 429784\n"
     ]
    },
    {
     "name": "stderr",
     "output_type": "stream",
     "text": [
      " 67%|██████▋   | 175/260 [18:21<06:32,  4.61s/it]"
     ]
    },
    {
     "name": "stdout",
     "output_type": "stream",
     "text": [
      "Analizado grafo 429784 coef_avg_clust: 0.607978\n",
      "Analizando grafo 429751\n"
     ]
    },
    {
     "name": "stderr",
     "output_type": "stream",
     "text": [
      " 68%|██████▊   | 176/260 [18:32<08:54,  6.37s/it]"
     ]
    },
    {
     "name": "stdout",
     "output_type": "stream",
     "text": [
      "Analizado grafo 429751 coef_avg_clust: 0.595716\n",
      "Analizando grafo 429741\n"
     ]
    },
    {
     "name": "stderr",
     "output_type": "stream",
     "text": [
      " 68%|██████▊   | 177/260 [18:38<08:32,  6.18s/it]"
     ]
    },
    {
     "name": "stdout",
     "output_type": "stream",
     "text": [
      "Analizado grafo 429741 coef_avg_clust: 0.599633\n",
      "Analizando grafo 429651\n"
     ]
    },
    {
     "name": "stderr",
     "output_type": "stream",
     "text": [
      " 68%|██████▊   | 178/260 [18:46<09:10,  6.71s/it]"
     ]
    },
    {
     "name": "stdout",
     "output_type": "stream",
     "text": [
      "Analizado grafo 429651 coef_avg_clust: 0.59849\n",
      "Analizando grafo 429576\n"
     ]
    },
    {
     "name": "stderr",
     "output_type": "stream",
     "text": [
      " 69%|██████▉   | 179/260 [18:51<08:37,  6.39s/it]"
     ]
    },
    {
     "name": "stdout",
     "output_type": "stream",
     "text": [
      "Analizado grafo 429576 coef_avg_clust: 0.597594\n",
      "Analizando grafo 429552\n"
     ]
    },
    {
     "name": "stderr",
     "output_type": "stream",
     "text": [
      " 69%|██████▉   | 180/260 [18:55<07:22,  5.53s/it]"
     ]
    },
    {
     "name": "stdout",
     "output_type": "stream",
     "text": [
      "Analizado grafo 429552 coef_avg_clust: 0.606709\n",
      "Analizando grafo 429725\n"
     ]
    },
    {
     "name": "stderr",
     "output_type": "stream",
     "text": [
      " 70%|██████▉   | 181/260 [19:00<07:07,  5.41s/it]"
     ]
    },
    {
     "name": "stdout",
     "output_type": "stream",
     "text": [
      "Analizado grafo 429725 coef_avg_clust: 0.599012\n",
      "Analizando grafo 429754\n"
     ]
    },
    {
     "name": "stderr",
     "output_type": "stream",
     "text": [
      " 70%|███████   | 182/260 [19:06<07:29,  5.76s/it]"
     ]
    },
    {
     "name": "stdout",
     "output_type": "stream",
     "text": [
      "Analizado grafo 429754 coef_avg_clust: 0.59927\n",
      "Analizando grafo 429697\n"
     ]
    },
    {
     "name": "stderr",
     "output_type": "stream",
     "text": [
      " 70%|███████   | 183/260 [19:15<08:20,  6.50s/it]"
     ]
    },
    {
     "name": "stdout",
     "output_type": "stream",
     "text": [
      "Analizado grafo 429697 coef_avg_clust: 0.597114\n",
      "Analizando grafo 429707\n"
     ]
    },
    {
     "name": "stderr",
     "output_type": "stream",
     "text": [
      " 71%|███████   | 184/260 [19:23<08:50,  6.98s/it]"
     ]
    },
    {
     "name": "stdout",
     "output_type": "stream",
     "text": [
      "Analizado grafo 429707 coef_avg_clust: 0.597273\n",
      "Analizando grafo 429563\n"
     ]
    },
    {
     "name": "stderr",
     "output_type": "stream",
     "text": [
      " 71%|███████   | 185/260 [19:32<09:25,  7.55s/it]"
     ]
    },
    {
     "name": "stdout",
     "output_type": "stream",
     "text": [
      "Analizado grafo 429563 coef_avg_clust: 0.594803\n",
      "Analizando grafo 429660\n"
     ]
    },
    {
     "name": "stderr",
     "output_type": "stream",
     "text": [
      " 72%|███████▏  | 186/260 [19:39<09:19,  7.57s/it]"
     ]
    },
    {
     "name": "stdout",
     "output_type": "stream",
     "text": [
      "Analizado grafo 429660 coef_avg_clust: 0.598987\n",
      "Analizando grafo 429545\n"
     ]
    },
    {
     "name": "stderr",
     "output_type": "stream",
     "text": [
      " 72%|███████▏  | 187/260 [19:48<09:27,  7.77s/it]"
     ]
    },
    {
     "name": "stdout",
     "output_type": "stream",
     "text": [
      "Analizado grafo 429545 coef_avg_clust: 0.594942\n",
      "Analizando grafo 429544\n"
     ]
    },
    {
     "name": "stderr",
     "output_type": "stream",
     "text": [
      " 72%|███████▏  | 188/260 [19:54<09:01,  7.53s/it]"
     ]
    },
    {
     "name": "stdout",
     "output_type": "stream",
     "text": [
      "Analizado grafo 429544 coef_avg_clust: 0.599547\n",
      "Analizando grafo 429712\n"
     ]
    },
    {
     "name": "stderr",
     "output_type": "stream",
     "text": [
      " 73%|███████▎  | 189/260 [20:00<08:05,  6.84s/it]"
     ]
    },
    {
     "name": "stdout",
     "output_type": "stream",
     "text": [
      "Analizado grafo 429712 coef_avg_clust: 0.59959\n",
      "Analizando grafo 429628\n"
     ]
    },
    {
     "name": "stderr",
     "output_type": "stream",
     "text": [
      " 73%|███████▎  | 190/260 [20:09<08:59,  7.71s/it]"
     ]
    },
    {
     "name": "stdout",
     "output_type": "stream",
     "text": [
      "Analizado grafo 429628 coef_avg_clust: 0.596062\n",
      "Analizando grafo 429669\n"
     ]
    },
    {
     "name": "stderr",
     "output_type": "stream",
     "text": [
      " 73%|███████▎  | 191/260 [20:11<06:39,  5.80s/it]"
     ]
    },
    {
     "name": "stdout",
     "output_type": "stream",
     "text": [
      "Analizado grafo 429669 coef_avg_clust: 0.601055\n",
      "Analizando grafo 429618\n"
     ]
    },
    {
     "name": "stderr",
     "output_type": "stream",
     "text": [
      " 74%|███████▍  | 192/260 [20:19<07:28,  6.59s/it]"
     ]
    },
    {
     "name": "stdout",
     "output_type": "stream",
     "text": [
      "Analizado grafo 429618 coef_avg_clust: 0.594406\n",
      "Analizando grafo 429667\n"
     ]
    },
    {
     "name": "stderr",
     "output_type": "stream",
     "text": [
      " 74%|███████▍  | 193/260 [20:20<05:23,  4.83s/it]"
     ]
    },
    {
     "name": "stdout",
     "output_type": "stream",
     "text": [
      "Analizado grafo 429667 coef_avg_clust: 0.601081\n",
      "Analizando grafo 429601\n"
     ]
    },
    {
     "name": "stderr",
     "output_type": "stream",
     "text": [
      " 75%|███████▍  | 194/260 [20:22<04:19,  3.93s/it]"
     ]
    },
    {
     "name": "stdout",
     "output_type": "stream",
     "text": [
      "Analizado grafo 429601 coef_avg_clust: 0.59835\n",
      "Analizando grafo 429643\n"
     ]
    },
    {
     "name": "stderr",
     "output_type": "stream",
     "text": [
      " 75%|███████▌  | 195/260 [20:30<05:35,  5.16s/it]"
     ]
    },
    {
     "name": "stdout",
     "output_type": "stream",
     "text": [
      "Analizado grafo 429643 coef_avg_clust: 0.597346\n",
      "Analizando grafo 429568\n"
     ]
    },
    {
     "name": "stderr",
     "output_type": "stream",
     "text": [
      " 75%|███████▌  | 196/260 [20:39<06:47,  6.36s/it]"
     ]
    },
    {
     "name": "stdout",
     "output_type": "stream",
     "text": [
      "Analizado grafo 429568 coef_avg_clust: 0.594845\n",
      "Analizando grafo 429622\n"
     ]
    },
    {
     "name": "stderr",
     "output_type": "stream",
     "text": [
      " 76%|███████▌  | 197/260 [20:40<05:01,  4.79s/it]"
     ]
    },
    {
     "name": "stdout",
     "output_type": "stream",
     "text": [
      "Analizado grafo 429622 coef_avg_clust: 0.593305\n",
      "Analizando grafo 429664\n"
     ]
    },
    {
     "name": "stderr",
     "output_type": "stream",
     "text": [
      " 76%|███████▌  | 198/260 [20:42<04:05,  3.95s/it]"
     ]
    },
    {
     "name": "stdout",
     "output_type": "stream",
     "text": [
      "Analizado grafo 429664 coef_avg_clust: 0.603677\n",
      "Analizando grafo 429550\n"
     ]
    },
    {
     "name": "stderr",
     "output_type": "stream",
     "text": [
      " 77%|███████▋  | 199/260 [20:46<03:57,  3.90s/it]"
     ]
    },
    {
     "name": "stdout",
     "output_type": "stream",
     "text": [
      "Analizado grafo 429550 coef_avg_clust: 0.605365\n",
      "Analizando grafo 429606\n"
     ]
    },
    {
     "name": "stderr",
     "output_type": "stream",
     "text": [
      " 77%|███████▋  | 200/260 [20:54<05:07,  5.12s/it]"
     ]
    },
    {
     "name": "stdout",
     "output_type": "stream",
     "text": [
      "Analizado grafo 429606 coef_avg_clust: 0.597206\n",
      "Analizando grafo 429734\n"
     ]
    },
    {
     "name": "stderr",
     "output_type": "stream",
     "text": [
      " 77%|███████▋  | 201/260 [20:57<04:20,  4.42s/it]"
     ]
    },
    {
     "name": "stdout",
     "output_type": "stream",
     "text": [
      "Analizado grafo 429734 coef_avg_clust: 0.6067\n",
      "Analizando grafo 429746\n"
     ]
    },
    {
     "name": "stderr",
     "output_type": "stream",
     "text": [
      " 78%|███████▊  | 202/260 [21:04<05:07,  5.31s/it]"
     ]
    },
    {
     "name": "stdout",
     "output_type": "stream",
     "text": [
      "Analizado grafo 429746 coef_avg_clust: 0.598775\n",
      "Analizando grafo 429757\n"
     ]
    },
    {
     "name": "stderr",
     "output_type": "stream",
     "text": [
      " 78%|███████▊  | 203/260 [21:06<04:07,  4.34s/it]"
     ]
    },
    {
     "name": "stdout",
     "output_type": "stream",
     "text": [
      "Analizado grafo 429757 coef_avg_clust: 0.601798\n",
      "Analizando grafo 429695\n"
     ]
    },
    {
     "name": "stderr",
     "output_type": "stream",
     "text": [
      " 78%|███████▊  | 204/260 [21:09<03:44,  4.01s/it]"
     ]
    },
    {
     "name": "stdout",
     "output_type": "stream",
     "text": [
      "Analizado grafo 429695 coef_avg_clust: 0.607424\n",
      "Analizando grafo 429627\n"
     ]
    },
    {
     "name": "stderr",
     "output_type": "stream",
     "text": [
      " 79%|███████▉  | 205/260 [21:11<03:05,  3.38s/it]"
     ]
    },
    {
     "name": "stdout",
     "output_type": "stream",
     "text": [
      "Analizado grafo 429627 coef_avg_clust: 0.604382\n",
      "Analizando grafo 429769\n"
     ]
    },
    {
     "name": "stderr",
     "output_type": "stream",
     "text": [
      " 79%|███████▉  | 206/260 [21:14<02:51,  3.18s/it]"
     ]
    },
    {
     "name": "stdout",
     "output_type": "stream",
     "text": [
      "Analizado grafo 429769 coef_avg_clust: 0.604532\n",
      "Analizando grafo 429631\n"
     ]
    },
    {
     "name": "stderr",
     "output_type": "stream",
     "text": [
      " 80%|███████▉  | 207/260 [21:23<04:25,  5.00s/it]"
     ]
    },
    {
     "name": "stdout",
     "output_type": "stream",
     "text": [
      "Analizado grafo 429631 coef_avg_clust: 0.595165\n",
      "Analizando grafo 429771\n"
     ]
    },
    {
     "name": "stderr",
     "output_type": "stream",
     "text": [
      " 80%|████████  | 208/260 [21:31<04:57,  5.72s/it]"
     ]
    },
    {
     "name": "stdout",
     "output_type": "stream",
     "text": [
      "Analizado grafo 429771 coef_avg_clust: 0.598431\n",
      "Analizando grafo 429625\n"
     ]
    },
    {
     "name": "stderr",
     "output_type": "stream",
     "text": [
      " 80%|████████  | 209/260 [21:32<03:45,  4.42s/it]"
     ]
    },
    {
     "name": "stdout",
     "output_type": "stream",
     "text": [
      "Analizado grafo 429625 coef_avg_clust: 0.601529\n",
      "Analizando grafo 429662\n"
     ]
    },
    {
     "name": "stderr",
     "output_type": "stream",
     "text": [
      " 81%|████████  | 210/260 [21:37<03:46,  4.53s/it]"
     ]
    },
    {
     "name": "stdout",
     "output_type": "stream",
     "text": [
      "Analizado grafo 429662 coef_avg_clust: 0.601484\n",
      "Analizando grafo 429585\n"
     ]
    },
    {
     "name": "stderr",
     "output_type": "stream",
     "text": [
      " 81%|████████  | 211/260 [21:41<03:37,  4.44s/it]"
     ]
    },
    {
     "name": "stdout",
     "output_type": "stream",
     "text": [
      "Analizado grafo 429585 coef_avg_clust: 0.604556\n",
      "Analizando grafo 429555\n"
     ]
    },
    {
     "name": "stderr",
     "output_type": "stream",
     "text": [
      " 82%|████████▏ | 212/260 [21:47<03:55,  4.90s/it]"
     ]
    },
    {
     "name": "stdout",
     "output_type": "stream",
     "text": [
      "Analizado grafo 429555 coef_avg_clust: 0.598412\n",
      "Analizando grafo 429693\n"
     ]
    },
    {
     "name": "stderr",
     "output_type": "stream",
     "text": [
      " 82%|████████▏ | 213/260 [21:56<04:51,  6.19s/it]"
     ]
    },
    {
     "name": "stdout",
     "output_type": "stream",
     "text": [
      "Analizado grafo 429693 coef_avg_clust: 0.593721\n",
      "Analizando grafo 429700\n"
     ]
    },
    {
     "name": "stderr",
     "output_type": "stream",
     "text": [
      " 82%|████████▏ | 214/260 [22:01<04:32,  5.93s/it]"
     ]
    },
    {
     "name": "stdout",
     "output_type": "stream",
     "text": [
      "Analizado grafo 429700 coef_avg_clust: 0.598874\n",
      "Analizando grafo 429629\n"
     ]
    },
    {
     "name": "stderr",
     "output_type": "stream",
     "text": [
      " 83%|████████▎ | 215/260 [22:11<05:16,  7.04s/it]"
     ]
    },
    {
     "name": "stdout",
     "output_type": "stream",
     "text": [
      "Analizado grafo 429629 coef_avg_clust: 0.594517\n",
      "Analizando grafo 429559\n"
     ]
    },
    {
     "name": "stderr",
     "output_type": "stream",
     "text": [
      " 83%|████████▎ | 216/260 [22:15<04:29,  6.13s/it]"
     ]
    },
    {
     "name": "stdout",
     "output_type": "stream",
     "text": [
      "Analizado grafo 429559 coef_avg_clust: 0.603819\n",
      "Analizando grafo 429647\n"
     ]
    },
    {
     "name": "stderr",
     "output_type": "stream",
     "text": [
      " 83%|████████▎ | 217/260 [22:25<05:11,  7.24s/it]"
     ]
    },
    {
     "name": "stdout",
     "output_type": "stream",
     "text": [
      "Analizado grafo 429647 coef_avg_clust: 0.595616\n",
      "Analizando grafo 429649\n"
     ]
    },
    {
     "name": "stderr",
     "output_type": "stream",
     "text": [
      " 84%|████████▍ | 218/260 [22:31<04:47,  6.84s/it]"
     ]
    },
    {
     "name": "stdout",
     "output_type": "stream",
     "text": [
      "Analizado grafo 429649 coef_avg_clust: 0.598047\n",
      "Analizando grafo 429745\n"
     ]
    },
    {
     "name": "stderr",
     "output_type": "stream",
     "text": [
      " 84%|████████▍ | 219/260 [22:38<04:44,  6.95s/it]"
     ]
    },
    {
     "name": "stdout",
     "output_type": "stream",
     "text": [
      "Analizado grafo 429745 coef_avg_clust: 0.598486\n",
      "Analizando grafo 429597\n"
     ]
    },
    {
     "name": "stderr",
     "output_type": "stream",
     "text": [
      " 85%|████████▍ | 220/260 [22:48<05:13,  7.84s/it]"
     ]
    },
    {
     "name": "stdout",
     "output_type": "stream",
     "text": [
      "Analizado grafo 429597 coef_avg_clust: 0.594695\n",
      "Analizando grafo 429684\n"
     ]
    },
    {
     "name": "stderr",
     "output_type": "stream",
     "text": [
      " 85%|████████▌ | 221/260 [22:49<03:50,  5.91s/it]"
     ]
    },
    {
     "name": "stdout",
     "output_type": "stream",
     "text": [
      "Analizado grafo 429684 coef_avg_clust: 0.598419\n",
      "Analizando grafo 429640\n"
     ]
    },
    {
     "name": "stderr",
     "output_type": "stream",
     "text": [
      " 85%|████████▌ | 222/260 [22:50<02:49,  4.47s/it]"
     ]
    },
    {
     "name": "stdout",
     "output_type": "stream",
     "text": [
      "Analizado grafo 429640 coef_avg_clust: 0.598891\n",
      "Analizando grafo 429758\n"
     ]
    },
    {
     "name": "stderr",
     "output_type": "stream",
     "text": [
      " 86%|████████▌ | 223/260 [22:51<02:01,  3.28s/it]"
     ]
    },
    {
     "name": "stdout",
     "output_type": "stream",
     "text": [
      "Analizado grafo 429758 coef_avg_clust: 0.596427\n",
      "Analizando grafo 429570\n"
     ]
    },
    {
     "name": "stderr",
     "output_type": "stream",
     "text": [
      " 86%|████████▌ | 224/260 [23:01<03:06,  5.17s/it]"
     ]
    },
    {
     "name": "stdout",
     "output_type": "stream",
     "text": [
      "Analizado grafo 429570 coef_avg_clust: 0.594291\n",
      "Analizando grafo 429770\n"
     ]
    },
    {
     "name": "stderr",
     "output_type": "stream",
     "text": [
      " 87%|████████▋ | 225/260 [23:07<03:16,  5.60s/it]"
     ]
    },
    {
     "name": "stdout",
     "output_type": "stream",
     "text": [
      "Analizado grafo 429770 coef_avg_clust: 0.600427\n",
      "Analizando grafo 429558\n"
     ]
    },
    {
     "name": "stderr",
     "output_type": "stream",
     "text": [
      " 87%|████████▋ | 226/260 [23:16<03:45,  6.63s/it]"
     ]
    },
    {
     "name": "stdout",
     "output_type": "stream",
     "text": [
      "Analizado grafo 429558 coef_avg_clust: 0.594844\n",
      "Analizando grafo 429572\n"
     ]
    },
    {
     "name": "stderr",
     "output_type": "stream",
     "text": [
      " 87%|████████▋ | 227/260 [23:22<03:34,  6.49s/it]"
     ]
    },
    {
     "name": "stdout",
     "output_type": "stream",
     "text": [
      "Analizado grafo 429572 coef_avg_clust: 0.598793\n",
      "Analizando grafo 429698\n"
     ]
    },
    {
     "name": "stderr",
     "output_type": "stream",
     "text": [
      " 88%|████████▊ | 228/260 [23:27<03:10,  5.96s/it]"
     ]
    },
    {
     "name": "stdout",
     "output_type": "stream",
     "text": [
      "Analizado grafo 429698 coef_avg_clust: 0.601257\n",
      "Analizando grafo 429626\n"
     ]
    },
    {
     "name": "stderr",
     "output_type": "stream",
     "text": [
      " 88%|████████▊ | 229/260 [23:33<03:05,  6.00s/it]"
     ]
    },
    {
     "name": "stdout",
     "output_type": "stream",
     "text": [
      "Analizado grafo 429626 coef_avg_clust: 0.600041\n",
      "Analizando grafo 429609\n"
     ]
    },
    {
     "name": "stderr",
     "output_type": "stream",
     "text": [
      " 88%|████████▊ | 230/260 [23:37<02:44,  5.49s/it]"
     ]
    },
    {
     "name": "stdout",
     "output_type": "stream",
     "text": [
      "Analizado grafo 429609 coef_avg_clust: 0.604468\n",
      "Analizando grafo 429774\n"
     ]
    },
    {
     "name": "stderr",
     "output_type": "stream",
     "text": [
      " 89%|████████▉ | 231/260 [23:48<03:18,  6.85s/it]"
     ]
    },
    {
     "name": "stdout",
     "output_type": "stream",
     "text": [
      "Analizado grafo 429774 coef_avg_clust: 0.595947\n",
      "Analizando grafo 429721\n"
     ]
    },
    {
     "name": "stderr",
     "output_type": "stream",
     "text": [
      " 89%|████████▉ | 232/260 [23:53<02:58,  6.39s/it]"
     ]
    },
    {
     "name": "stdout",
     "output_type": "stream",
     "text": [
      "Analizado grafo 429721 coef_avg_clust: 0.599033\n",
      "Analizando grafo 429566\n"
     ]
    },
    {
     "name": "stderr",
     "output_type": "stream",
     "text": [
      " 90%|████████▉ | 233/260 [23:58<02:42,  6.03s/it]"
     ]
    },
    {
     "name": "stdout",
     "output_type": "stream",
     "text": [
      "Analizado grafo 429566 coef_avg_clust: 0.59881\n",
      "Analizando grafo 429790\n"
     ]
    },
    {
     "name": "stderr",
     "output_type": "stream",
     "text": [
      " 90%|█████████ | 234/260 [24:05<02:43,  6.30s/it]"
     ]
    },
    {
     "name": "stdout",
     "output_type": "stream",
     "text": [
      "Analizado grafo 429790 coef_avg_clust: 0.600099\n",
      "Analizando grafo 429772\n"
     ]
    },
    {
     "name": "stderr",
     "output_type": "stream",
     "text": [
      " 91%|█████████ | 236/260 [24:12<01:50,  4.62s/it]"
     ]
    },
    {
     "name": "stdout",
     "output_type": "stream",
     "text": [
      "Analizado grafo 429772 coef_avg_clust: 0.600411\n",
      "Analizando grafo 429543\n",
      "Analizado grafo 429543 coef_avg_clust: 0.531168\n",
      "Analizando grafo 429593\n"
     ]
    },
    {
     "name": "stderr",
     "output_type": "stream",
     "text": [
      " 91%|█████████ | 237/260 [24:18<01:57,  5.09s/it]"
     ]
    },
    {
     "name": "stdout",
     "output_type": "stream",
     "text": [
      "Analizado grafo 429593 coef_avg_clust: 0.599482\n",
      "Analizando grafo 429584\n"
     ]
    },
    {
     "name": "stderr",
     "output_type": "stream",
     "text": [
      " 92%|█████████▏| 238/260 [24:23<01:51,  5.06s/it]"
     ]
    },
    {
     "name": "stdout",
     "output_type": "stream",
     "text": [
      "Analizado grafo 429584 coef_avg_clust: 0.601789\n",
      "Analizando grafo 429658\n"
     ]
    },
    {
     "name": "stderr",
     "output_type": "stream",
     "text": [
      " 92%|█████████▏| 239/260 [24:33<02:14,  6.42s/it]"
     ]
    },
    {
     "name": "stdout",
     "output_type": "stream",
     "text": [
      "Analizado grafo 429658 coef_avg_clust: 0.59457\n",
      "Analizando grafo 429786\n"
     ]
    },
    {
     "name": "stderr",
     "output_type": "stream",
     "text": [
      " 92%|█████████▏| 240/260 [24:37<01:53,  5.66s/it]"
     ]
    },
    {
     "name": "stdout",
     "output_type": "stream",
     "text": [
      "Analizado grafo 429786 coef_avg_clust: 0.606286\n",
      "Analizando grafo 429673\n"
     ]
    },
    {
     "name": "stderr",
     "output_type": "stream",
     "text": [
      " 93%|█████████▎| 241/260 [24:38<01:22,  4.32s/it]"
     ]
    },
    {
     "name": "stdout",
     "output_type": "stream",
     "text": [
      "Analizado grafo 429673 coef_avg_clust: 0.597163\n",
      "Analizando grafo 429644\n"
     ]
    },
    {
     "name": "stderr",
     "output_type": "stream",
     "text": [
      " 93%|█████████▎| 242/260 [24:41<01:09,  3.88s/it]"
     ]
    },
    {
     "name": "stdout",
     "output_type": "stream",
     "text": [
      "Analizado grafo 429644 coef_avg_clust: 0.607832\n",
      "Analizando grafo 429738\n"
     ]
    },
    {
     "name": "stderr",
     "output_type": "stream",
     "text": [
      " 93%|█████████▎| 243/260 [24:47<01:19,  4.66s/it]"
     ]
    },
    {
     "name": "stdout",
     "output_type": "stream",
     "text": [
      "Analizado grafo 429738 coef_avg_clust: 0.598831\n",
      "Analizando grafo 429638\n"
     ]
    },
    {
     "name": "stderr",
     "output_type": "stream",
     "text": [
      " 94%|█████████▍| 244/260 [24:49<00:58,  3.65s/it]"
     ]
    },
    {
     "name": "stdout",
     "output_type": "stream",
     "text": [
      "Analizado grafo 429638 coef_avg_clust: 0.598764\n",
      "Analizando grafo 429683\n"
     ]
    },
    {
     "name": "stderr",
     "output_type": "stream",
     "text": [
      " 94%|█████████▍| 245/260 [24:57<01:14,  4.97s/it]"
     ]
    },
    {
     "name": "stdout",
     "output_type": "stream",
     "text": [
      "Analizado grafo 429683 coef_avg_clust: 0.59732\n",
      "Analizando grafo 429620\n"
     ]
    },
    {
     "name": "stderr",
     "output_type": "stream",
     "text": [
      " 95%|█████████▍| 246/260 [24:59<00:57,  4.10s/it]"
     ]
    },
    {
     "name": "stdout",
     "output_type": "stream",
     "text": [
      "Analizado grafo 429620 coef_avg_clust: 0.59935\n",
      "Analizando grafo 429595\n"
     ]
    },
    {
     "name": "stderr",
     "output_type": "stream",
     "text": [
      " 95%|█████████▌| 247/260 [25:05<01:02,  4.77s/it]"
     ]
    },
    {
     "name": "stdout",
     "output_type": "stream",
     "text": [
      "Analizado grafo 429595 coef_avg_clust: 0.600258\n",
      "Analizando grafo 429582\n"
     ]
    },
    {
     "name": "stderr",
     "output_type": "stream",
     "text": [
      " 95%|█████████▌| 248/260 [25:15<01:17,  6.42s/it]"
     ]
    },
    {
     "name": "stdout",
     "output_type": "stream",
     "text": [
      "Analizado grafo 429582 coef_avg_clust: 0.595938\n",
      "Analizando grafo 429535\n"
     ]
    },
    {
     "name": "stderr",
     "output_type": "stream",
     "text": [
      " 96%|█████████▌| 249/260 [25:25<01:21,  7.40s/it]"
     ]
    },
    {
     "name": "stdout",
     "output_type": "stream",
     "text": [
      "Analizado grafo 429535 coef_avg_clust: 0.595592\n",
      "Analizando grafo 429685\n"
     ]
    },
    {
     "name": "stderr",
     "output_type": "stream",
     "text": [
      " 96%|█████████▌| 250/260 [25:30<01:07,  6.70s/it]"
     ]
    },
    {
     "name": "stdout",
     "output_type": "stream",
     "text": [
      "Analizado grafo 429685 coef_avg_clust: 0.601571\n",
      "Analizando grafo 429778\n"
     ]
    },
    {
     "name": "stderr",
     "output_type": "stream",
     "text": [
      " 97%|█████████▋| 251/260 [25:35<00:54,  6.02s/it]"
     ]
    },
    {
     "name": "stdout",
     "output_type": "stream",
     "text": [
      "Analizado grafo 429778 coef_avg_clust: 0.603791\n",
      "Analizando grafo 429749\n"
     ]
    },
    {
     "name": "stderr",
     "output_type": "stream",
     "text": [
      " 97%|█████████▋| 252/260 [25:41<00:48,  6.01s/it]"
     ]
    },
    {
     "name": "stdout",
     "output_type": "stream",
     "text": [
      "Analizado grafo 429749 coef_avg_clust: 0.599466\n",
      "Analizando grafo 429633\n"
     ]
    },
    {
     "name": "stderr",
     "output_type": "stream",
     "text": [
      " 97%|█████████▋| 253/260 [25:51<00:50,  7.23s/it]"
     ]
    },
    {
     "name": "stdout",
     "output_type": "stream",
     "text": [
      "Analizado grafo 429633 coef_avg_clust: 0.595478\n",
      "Analizando grafo 429732\n"
     ]
    },
    {
     "name": "stderr",
     "output_type": "stream",
     "text": [
      " 98%|█████████▊| 254/260 [25:57<00:42,  7.09s/it]"
     ]
    },
    {
     "name": "stdout",
     "output_type": "stream",
     "text": [
      "Analizado grafo 429732 coef_avg_clust: 0.599483\n",
      "Analizando grafo 429711\n"
     ]
    },
    {
     "name": "stderr",
     "output_type": "stream",
     "text": [
      " 98%|█████████▊| 255/260 [25:58<00:25,  5.04s/it]"
     ]
    },
    {
     "name": "stdout",
     "output_type": "stream",
     "text": [
      "Analizado grafo 429711 coef_avg_clust: 0.548699\n",
      "Analizando grafo 429726\n"
     ]
    },
    {
     "name": "stderr",
     "output_type": "stream",
     "text": [
      " 98%|█████████▊| 256/260 [26:07<00:25,  6.40s/it]"
     ]
    },
    {
     "name": "stdout",
     "output_type": "stream",
     "text": [
      "Analizado grafo 429726 coef_avg_clust: 0.595923\n",
      "Analizando grafo 429775\n"
     ]
    },
    {
     "name": "stderr",
     "output_type": "stream",
     "text": [
      " 99%|█████████▉| 257/260 [26:17<00:22,  7.49s/it]"
     ]
    },
    {
     "name": "stdout",
     "output_type": "stream",
     "text": [
      "Analizado grafo 429775 coef_avg_clust: 0.595694\n",
      "Analizando grafo 429546\n"
     ]
    },
    {
     "name": "stderr",
     "output_type": "stream",
     "text": [
      " 99%|█████████▉| 258/260 [26:18<00:11,  5.52s/it]"
     ]
    },
    {
     "name": "stdout",
     "output_type": "stream",
     "text": [
      "Analizado grafo 429546 coef_avg_clust: 0.595765\n",
      "Analizando grafo 429567\n"
     ]
    },
    {
     "name": "stderr",
     "output_type": "stream",
     "text": [
      "100%|█████████▉| 259/260 [26:18<00:03,  3.96s/it]"
     ]
    },
    {
     "name": "stdout",
     "output_type": "stream",
     "text": [
      "Analizado grafo 429567 coef_avg_clust: 0.583439\n",
      "Analizando grafo 429743\n"
     ]
    },
    {
     "name": "stderr",
     "output_type": "stream",
     "text": [
      "100%|██████████| 260/260 [26:26<00:00,  6.10s/it]"
     ]
    },
    {
     "name": "stdout",
     "output_type": "stream",
     "text": [
      "Analizado grafo 429743 coef_avg_clust: 0.597742\n"
     ]
    },
    {
     "name": "stderr",
     "output_type": "stream",
     "text": [
      "\n"
     ]
    }
   ],
   "source": [
    "direct = path + MANIFESTACION + '/'\n",
    "arr_clust = []\n",
    "arr_hour = []\n",
    "for root, dirs, files in os.walk(direct, topdown=False):\n",
    "   for name in tqdm.tqdm(files):\n",
    "      if name.endswith(\".gexf\"):\n",
    "            print(\"Analizando grafo\", name[:-5])\n",
    "            G = nx.read_gexf(direct + name)\n",
    "            avg_clust=nx.average_clustering(G)\n",
    "            arr_clust.append(avg_clust)\n",
    "            arr_hour.append(name[:-5])\n",
    "            print(\"Analizado grafo\", name[:-5], \"coef_avg_clust:\", round(avg_clust, 6))"
   ]
  },
  {
   "cell_type": "code",
   "execution_count": 61,
   "metadata": {},
   "outputs": [],
   "source": [
    "data = list(zip(arr_hour, arr_clust))\n",
    "data.sort()\n",
    "hour_sort, clust_sort = zip(*data)\n",
    "hour_sort = list(hour_sort)\n",
    "clust_sort = list(clust_sort)"
   ]
  },
  {
   "cell_type": "code",
   "execution_count": 62,
   "metadata": {},
   "outputs": [
    {
     "name": "stdout",
     "output_type": "stream",
     "text": [
      "nat , hora con avg_clust max 2019-01-07 03:00:00 hour_name: 429674\n",
      "nat , hora con avg_clust min 2019-01-01 16:00:00 hour_name: 429543\n"
     ]
    }
   ],
   "source": [
    "dt_sort_arr=[]\n",
    "for hour in hour_sort:\n",
    "    dt_sort_arr.append(datetime.datetime.fromtimestamp(int(hour)*3600))\n",
    "print(MANIFESTACION, \", hora con avg_clust max\", dt_sort_arr[clust_sort.index(max(clust_sort))], \"hour_name:\", hour_sort[clust_sort.index(max(clust_sort))])\n",
    "print(MANIFESTACION, \", hora con avg_clust min\", dt_sort_arr[clust_sort.index(min(clust_sort))], \"hour_name:\", hour_sort[clust_sort.index(min(clust_sort))] )"
   ]
  },
  {
   "cell_type": "code",
   "execution_count": 66,
   "metadata": {},
   "outputs": [
    {
     "data": {
      "text/plain": [
       "datetime.datetime(2019, 1, 5, 1, 0)"
      ]
     },
     "execution_count": 66,
     "metadata": {},
     "output_type": "execute_result"
    }
   ],
   "source": [
    "datetime.datetime.fromtimestamp(int(429624)*3600)"
   ]
  },
  {
   "cell_type": "code",
   "execution_count": 63,
   "metadata": {},
   "outputs": [
    {
     "data": {
      "text/plain": [
       "0.608319295160736"
      ]
     },
     "execution_count": 63,
     "metadata": {},
     "output_type": "execute_result"
    }
   ],
   "source": [
    "max(clust_sort)"
   ]
  },
  {
   "cell_type": "code",
   "execution_count": 65,
   "metadata": {},
   "outputs": [
    {
     "data": {
      "image/png": "[encoded data removed]",
      "text/plain": [
       "<Figure size 1400x600 with 1 Axes>"
      ]
     },
     "metadata": {},
     "output_type": "display_data"
    }
   ],
   "source": [
    "\n",
    "plt.figure(figsize=(14,6)) \n",
    "plt.style.use('seaborn-v0_8-darkgrid')    \n",
    "\n",
    "\n",
    "\n",
    "plt.plot(dt_sort_arr, clust_sort, alpha=0.8)\n",
    "name_max = str(dt_sort_arr[clust_sort.index(max(clust_sort))]) + \", max avg_clust: \" + str(round(max(clust_sort), 6))\n",
    "name_min = str(dt_sort_arr[clust_sort.index(min(clust_sort))]) + \", max avg_clust: \" + str(round(min(clust_sort), 6))\n",
    "plt.scatter(dt_sort_arr[clust_sort.index(max(clust_sort))], max(clust_sort), s=30, c=\"red\", marker=\"o\", label = name_max)\n",
    "plt.scatter(dt_sort_arr[clust_sort.index(min(clust_sort))], min(clust_sort), s=30, c=\"green\", marker=\"o\", label = name_min)\n",
    "        #plt.plot(points[0], points[1], alpha=alpha, label=\"K_T = \" + str(arr_kt_plot[index]))\n",
    "# TODO convertir horas\n",
    "plt.xlabel(\"Hora\")\n",
    "plt.ylabel(\"AVG clust\")\n",
    "plt.xticks(dt_sort_arr[::4], labels=dt_sort_arr[::4])\n",
    "plt.xticks(rotation=90)\n",
    "plt.title(\"Average clustering coefficient - \" + MANIFESTACION)\n",
    "plt.legend()\n",
    "\n",
    "plt.savefig(\"avg_clust_\" + MANIFESTACION)\n",
    "\n",
    "plt.show()\n"
   ]
  },
  {
   "cell_type": "code",
   "execution_count": null,
   "metadata": {},
   "outputs": [],
   "source": []
  }
 ],
 "metadata": {
  "kernelspec": {
   "display_name": ".venv",
   "language": "python",
   "name": "python3"
  },
  "language_info": {
   "codemirror_mode": {
    "name": "ipython",
    "version": 3
   },
   "file_extension": ".py",
   "mimetype": "text/x-python",
   "name": "python",
   "nbconvert_exporter": "python",
   "pygments_lexer": "ipython3",
   "version": "3.10.12"
  }
 },
 "nbformat": 4,
 "nbformat_minor": 2
}
