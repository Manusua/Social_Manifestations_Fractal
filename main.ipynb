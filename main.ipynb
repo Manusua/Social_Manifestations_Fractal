{
 "cells": [
  {
   "cell_type": "code",
   "execution_count": 31,
   "metadata": {},
   "outputs": [],
   "source": [
    "import networkx as nx\n",
    "import csv\n",
    "import pandas as pd\n",
    "import tqdm "
   ]
  },
  {
   "cell_type": "code",
   "execution_count": 4,
   "metadata": {},
   "outputs": [],
   "source": [
    "data_folder = \"data/csv/\"\n",
    "file1 = \"hashtag_usages_per_hour_9n_9ngranmarchaporlajusticia_weighted.txt\"\n",
    "file2 = \"hashtag_usages_per_hour_noaltarifazo_ruidazonacional_weighted.txt\"\n",
    "graphs_folder = \"graphs\""
   ]
  },
  {
   "cell_type": "code",
   "execution_count": 7,
   "metadata": {},
   "outputs": [
    {
     "data": {
      "text/html": [
       "<div>\n",
       "<style scoped>\n",
       "    .dataframe tbody tr th:only-of-type {\n",
       "        vertical-align: middle;\n",
       "    }\n",
       "\n",
       "    .dataframe tbody tr th {\n",
       "        vertical-align: top;\n",
       "    }\n",
       "\n",
       "    .dataframe thead th {\n",
       "        text-align: right;\n",
       "    }\n",
       "</style>\n",
       "<table border=\"1\" class=\"dataframe\">\n",
       "  <thead>\n",
       "    <tr style=\"text-align: right;\">\n",
       "      <th></th>\n",
       "      <th>user</th>\n",
       "      <th>hashtag</th>\n",
       "      <th>hour</th>\n",
       "      <th>weight</th>\n",
       "    </tr>\n",
       "  </thead>\n",
       "  <tbody>\n",
       "    <tr>\n",
       "      <th>0</th>\n",
       "      <td>5479912</td>\n",
       "      <td>1995</td>\n",
       "      <td>437040</td>\n",
       "      <td>1</td>\n",
       "    </tr>\n",
       "    <tr>\n",
       "      <th>1</th>\n",
       "      <td>7517622</td>\n",
       "      <td>2009</td>\n",
       "      <td>437036</td>\n",
       "      <td>1</td>\n",
       "    </tr>\n",
       "    <tr>\n",
       "      <th>2</th>\n",
       "      <td>7517622</td>\n",
       "      <td>12517</td>\n",
       "      <td>437002</td>\n",
       "      <td>1</td>\n",
       "    </tr>\n",
       "    <tr>\n",
       "      <th>3</th>\n",
       "      <td>8133272</td>\n",
       "      <td>387</td>\n",
       "      <td>436994</td>\n",
       "      <td>1</td>\n",
       "    </tr>\n",
       "    <tr>\n",
       "      <th>4</th>\n",
       "      <td>8133272</td>\n",
       "      <td>387</td>\n",
       "      <td>437006</td>\n",
       "      <td>1</td>\n",
       "    </tr>\n",
       "    <tr>\n",
       "      <th>...</th>\n",
       "      <td>...</td>\n",
       "      <td>...</td>\n",
       "      <td>...</td>\n",
       "      <td>...</td>\n",
       "    </tr>\n",
       "    <tr>\n",
       "      <th>219483</th>\n",
       "      <td>1193504467095822337</td>\n",
       "      <td>13027</td>\n",
       "      <td>437063</td>\n",
       "      <td>1</td>\n",
       "    </tr>\n",
       "    <tr>\n",
       "      <th>219484</th>\n",
       "      <td>1193504467095822337</td>\n",
       "      <td>13990</td>\n",
       "      <td>437064</td>\n",
       "      <td>1</td>\n",
       "    </tr>\n",
       "    <tr>\n",
       "      <th>219485</th>\n",
       "      <td>1193504467095822337</td>\n",
       "      <td>14517</td>\n",
       "      <td>437076</td>\n",
       "      <td>2</td>\n",
       "    </tr>\n",
       "    <tr>\n",
       "      <th>219486</th>\n",
       "      <td>1193504467095822337</td>\n",
       "      <td>16513</td>\n",
       "      <td>437063</td>\n",
       "      <td>1</td>\n",
       "    </tr>\n",
       "    <tr>\n",
       "      <th>219487</th>\n",
       "      <td>1193504467095822337</td>\n",
       "      <td>16712</td>\n",
       "      <td>437061</td>\n",
       "      <td>1</td>\n",
       "    </tr>\n",
       "  </tbody>\n",
       "</table>\n",
       "<p>219488 rows × 4 columns</p>\n",
       "</div>"
      ],
      "text/plain": [
       "                       user  hashtag    hour  weight\n",
       "0                   5479912     1995  437040       1\n",
       "1                   7517622     2009  437036       1\n",
       "2                   7517622    12517  437002       1\n",
       "3                   8133272      387  436994       1\n",
       "4                   8133272      387  437006       1\n",
       "...                     ...      ...     ...     ...\n",
       "219483  1193504467095822337    13027  437063       1\n",
       "219484  1193504467095822337    13990  437064       1\n",
       "219485  1193504467095822337    14517  437076       2\n",
       "219486  1193504467095822337    16513  437063       1\n",
       "219487  1193504467095822337    16712  437061       1\n",
       "\n",
       "[219488 rows x 4 columns]"
      ]
     },
     "execution_count": 7,
     "metadata": {},
     "output_type": "execute_result"
    }
   ],
   "source": [
    "df = pd.read_csv(data_folder + file1, sep=' ')\n",
    "df"
   ]
  },
  {
   "cell_type": "code",
   "execution_count": 36,
   "metadata": {},
   "outputs": [
    {
     "name": "stdout",
     "output_type": "stream",
     "text": [
      "num users:  8022\n"
     ]
    },
    {
     "name": "stderr",
     "output_type": "stream",
     "text": [
      "  0%|          | 0/8022 [00:00<?, ?it/s]"
     ]
    },
    {
     "name": "stderr",
     "output_type": "stream",
     "text": [
      " 45%|████▌     | 3639/8022 [14:25<18:18,  3.99it/s]   "
     ]
    }
   ],
   "source": [
    "# Creo red de usuarios que comparten hastags\n",
    "G = nx.Graph()\n",
    "df_users = df[\"user\"].unique()\n",
    "print(\"num users: \", df_users.shape[0])\n",
    "G.add_nodes_from(df_users)\n",
    "for user in tqdm.tqdm(df_users):\n",
    "    df_user_hastag = df.loc[df[\"user\"] == user]\n",
    "    df_user_hastag = df_user_hastag[\"hashtag\"]\n",
    "    #df_user_hastag.columns[1] = \"hashtag\"\n",
    "    #print(df_user_hastag)\n",
    "    #print(\"Encontrados \", df_user_hastag.shape[0], \"hashtags del usuario \", user)\n",
    "    for hashtag in df_user_hastag:\n",
    "        df_hashtag = df.loc[df[\"hashtag\"] == hashtag]\n",
    "        df_hashtag = df_hashtag[\"user\"]\n",
    "        #print(df_hashtag.shape[0] , \" usuarios comentaron sobre el hastag \", hashtag)\n",
    "        for us in df_hashtag:\n",
    "            # TODO Si buscamos eficiencia se puede quitar y añadir todas las conexiones y luego simplemente quitar la propia\n",
    "            if us != user:\n",
    "                # TODO Es no dirigido asi que el orden da igual(?)\n",
    "                if G.has_edge(user, us):\n",
    "                    #print(\"A\")\n",
    "                    G[user][us][\"weight\"] += 1\n",
    "                elif G.has_edge(us, user):\n",
    "                    print(\"B\")                    \n",
    "                    G[us][user][\"weight\"] += 1\n",
    "                else:\n",
    "                    G.add_edge(user, us, weight = 1)\n",
    "nx.write_gexf(G, graphs_folder + \"users_sharing_hashtags.gexf\")"
   ]
  },
  {
   "cell_type": "code",
   "execution_count": null,
   "metadata": {},
   "outputs": [],
   "source": [
    "# Creo red de hastags que comparten usuarios\n",
    "# Creo red de usuarios que comparten hastags\n",
    "G = nx.Graph()\n",
    "df_hashtags = df[\"hashtag\"].unique()\n",
    "print(\"num hashtags: \", df_hashtags.shape[0])\n",
    "G.add_nodes_from(df_hashtags)\n",
    "for hashtag in tqdm.tqdm(df_hashtags):\n",
    "    df_hashtag_user = df.loc[df[\"hashtag\"] == df_hashtags]\n",
    "    df_hashtag_user = df_hashtag_user[\"user\"]\n",
    "    #df_user_hastag.columns[1] = \"hashtag\"\n",
    "    #print(df_user_hastag)\n",
    "    #print(\"Encontrados \", df_user_hastag.shape[0], \"hashtags del usuario \", user)\n",
    "    for user in df_hashtag_user:\n",
    "        df_user = df.loc[df[\"user\"] == user]\n",
    "        df_user = df_hashtag[\"hashtag\"]\n",
    "        #print(df_hashtag.shape[0] , \" usuarios comentaron sobre el hastag \", hashtag)\n",
    "        for hash in df_user:\n",
    "            # TODO Si buscamos eficiencia se puede quitar y añadir todas las conexiones y luego simplemente quitar la propia\n",
    "            if hash != hashtag:\n",
    "                # TODO Es no dirigido asi que el orden da igual(?)\n",
    "                if G.has_edge(hashtag, hash):\n",
    "                    #print(\"A\")\n",
    "                    G[hashtag][hash][\"weight\"] += 1\n",
    "                elif G.has_edge(hash, hashtag):\n",
    "                    print(\"B\")                    \n",
    "                    G[hash][hashtag][\"weight\"] += 1\n",
    "                else:\n",
    "                    G.add_edge(hashtag, hash, weight = 1)\n",
    "nx.write_gexf(G, graphs_folder + \"hashtags_sharing_users.gexf\")"
   ]
  }
 ],
 "metadata": {
  "kernelspec": {
   "display_name": ".venv",
   "language": "python",
   "name": "python3"
  },
  "language_info": {
   "codemirror_mode": {
    "name": "ipython",
    "version": 3
   },
   "file_extension": ".py",
   "mimetype": "text/x-python",
   "name": "python",
   "nbconvert_exporter": "python",
   "pygments_lexer": "ipython3",
   "version": "3.12.0"
  }
 },
 "nbformat": 4,
 "nbformat_minor": 2
}
