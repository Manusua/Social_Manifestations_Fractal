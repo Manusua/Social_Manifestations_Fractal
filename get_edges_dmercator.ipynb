{
 "cells": [
  {
   "cell_type": "code",
   "execution_count": 1,
   "metadata": {},
   "outputs": [],
   "source": [
    "from utils_graph_generation import get_paths,load_graph"
   ]
  },
  {
   "cell_type": "code",
   "execution_count": 3,
   "metadata": {},
   "outputs": [
    {
     "name": "stdout",
     "output_type": "stream",
     "text": [
      "Cargado el grafo de la hora 437038, numero de nodos: 5759, numero de aristas: 74354\n"
     ]
    }
   ],
   "source": [
    "\n",
    "# Seleccionamos el modo con el que queremos crear nuestra red: Hashtags como nodos o usuarios como nodos\n",
    "#MODE = \"user\"\n",
    "MODE = \"hashtag\"\n",
    "\n",
    "# MAX_UMBRAL es el máximo K_T que vamos a usar para generar subgrafos\n",
    "MAX_UMBRAL = 600\n",
    "\n",
    "# Seleccionamos el fichero correspondiente a la manifestación social de la que queremos sacar la red y seleccionamos la hora que queremos estudiar\n",
    "\n",
    "MANIFESTACION = \"nat\"\n",
    "# Hora critica NaT\n",
    "hora = \"429624\"\n",
    "\n",
    "MANIFESTACION = \"9n\"\n",
    "# Hora critica 9n\n",
    "hora = \"437038\"\n",
    "\n",
    "graphs_folder, plots_folder = get_paths(MODE, MANIFESTACION, metric=\"correlation\")\n",
    "G = load_graph(hora, graphs_folder)\n",
    "with open(\"graphs/dmercator/\"+MANIFESTACION+'_'+hora, \"w\") as f:\n",
    "    for edge in G.edges():\n",
    "        f.write(edge[0] + ' ' + edge[1] + '\\n')"
   ]
  }
 ],
 "metadata": {
  "kernelspec": {
   "display_name": "venv",
   "language": "python",
   "name": "python3"
  },
  "language_info": {
   "codemirror_mode": {
    "name": "ipython",
    "version": 3
   },
   "file_extension": ".py",
   "mimetype": "text/x-python",
   "name": "python",
   "nbconvert_exporter": "python",
   "pygments_lexer": "ipython3",
   "version": "3.10.12"
  }
 },
 "nbformat": 4,
 "nbformat_minor": 2
}
